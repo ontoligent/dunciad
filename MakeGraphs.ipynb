{
 "cells": [
  {
   "cell_type": "markdown",
   "id": "be979946-e378-4a6d-8cd4-7b2aff7e94df",
   "metadata": {
    "tags": []
   },
   "source": [
    "# Import Libraries"
   ]
  },
  {
   "cell_type": "code",
   "execution_count": 1,
   "id": "ba3aa990-945e-43b1-bed0-952f31fc8644",
   "metadata": {
    "tags": []
   },
   "outputs": [],
   "source": [
    "import pandas as pd\n",
    "import os"
   ]
  },
  {
   "cell_type": "markdown",
   "id": "5d5a70cb-eeec-4268-9f9a-6729be93307b",
   "metadata": {},
   "source": [
    "# Config"
   ]
  },
  {
   "cell_type": "code",
   "execution_count": 2,
   "id": "811ef325-59a1-4139-af56-dcc7d25019be",
   "metadata": {
    "tags": []
   },
   "outputs": [],
   "source": [
    "data_dir = \"data\"\n",
    "image_dir = \"images\""
   ]
  },
  {
   "cell_type": "markdown",
   "id": "7a093a9d-ffcd-471f-a6a4-bde1adfde7ea",
   "metadata": {},
   "source": [
    "# Get Raw Data"
   ]
  },
  {
   "cell_type": "code",
   "execution_count": 3,
   "id": "7833bb2a-8c2d-4aeb-9875-d71321514d40",
   "metadata": {
    "tags": []
   },
   "outputs": [],
   "source": [
    "# 2020 data\n",
    "# edges = pd.read_csv(f\"{data_dir}/2020/edges.csv\")"
   ]
  },
  {
   "cell_type": "code",
   "execution_count": 4,
   "id": "02c4d972-6efb-45b2-a6ea-890cf0f82d49",
   "metadata": {
    "tags": []
   },
   "outputs": [],
   "source": [
    "# New data\n",
    "excel_file = \"data/word_docs/ALL.xls\"\n",
    "sheets = []\n",
    "keep_cols = [\"character\", \"address\", \"reference\", \"person_referred_to\", \"relation\"]\n",
    "for i in range(5):\n",
    "    sheet = pd.read_excel(excel_file, sheet_name=i) \n",
    "    sheet.columns = [col.strip().lower().replace(' ', '_') for col in sheet.columns]\n",
    "    sheets.append(sheet[keep_cols])\n",
    "edges = pd.concat(sheets)"
   ]
  },
  {
   "cell_type": "markdown",
   "id": "66db2aa0-cc5a-45ff-ad68-113a7e184e89",
   "metadata": {},
   "source": [
    "## Clean up columns"
   ]
  },
  {
   "cell_type": "code",
   "execution_count": 5,
   "id": "1ffec4b1-cccb-418d-ba8a-c21ed48f0cd0",
   "metadata": {
    "tags": []
   },
   "outputs": [],
   "source": [
    "edges = edges.rename(columns={'character':'person', 'person_referred_to':'referent'})\n",
    "edges = edges.dropna(subset=['person','referent']).copy()"
   ]
  },
  {
   "cell_type": "code",
   "execution_count": 6,
   "id": "ee0ccb79-6b71-4fe8-a38b-7ff2187e5768",
   "metadata": {
    "tags": []
   },
   "outputs": [
    {
     "data": {
      "text/html": [
       "<div>\n",
       "<style scoped>\n",
       "    .dataframe tbody tr th:only-of-type {\n",
       "        vertical-align: middle;\n",
       "    }\n",
       "\n",
       "    .dataframe tbody tr th {\n",
       "        vertical-align: top;\n",
       "    }\n",
       "\n",
       "    .dataframe thead th {\n",
       "        text-align: right;\n",
       "    }\n",
       "</style>\n",
       "<table border=\"1\" class=\"dataframe\">\n",
       "  <thead>\n",
       "    <tr style=\"text-align: right;\">\n",
       "      <th></th>\n",
       "      <th>person</th>\n",
       "      <th>address</th>\n",
       "      <th>reference</th>\n",
       "      <th>referent</th>\n",
       "      <th>relation</th>\n",
       "    </tr>\n",
       "  </thead>\n",
       "  <tbody>\n",
       "    <tr>\n",
       "      <th>2</th>\n",
       "      <td>Cibber, Colley</td>\n",
       "      <td>Testimonies</td>\n",
       "      <td>Hervey compares Pope to Dryden and Prior in A ...</td>\n",
       "      <td>John Hervey</td>\n",
       "      <td>Akin to</td>\n",
       "    </tr>\n",
       "    <tr>\n",
       "      <th>4</th>\n",
       "      <td>Cibber, Colley</td>\n",
       "      <td>Testimonies</td>\n",
       "      <td>NaN</td>\n",
       "      <td>John Dryden</td>\n",
       "      <td>Attacked</td>\n",
       "    </tr>\n",
       "    <tr>\n",
       "      <th>5</th>\n",
       "      <td>Cibber, Colley</td>\n",
       "      <td>Testimonies</td>\n",
       "      <td>NaN</td>\n",
       "      <td>Matthew Prior</td>\n",
       "      <td>Attacked</td>\n",
       "    </tr>\n",
       "    <tr>\n",
       "      <th>6</th>\n",
       "      <td>Cibber, Colley</td>\n",
       "      <td>Testimonies</td>\n",
       "      <td>Cibber on the Dunciad</td>\n",
       "      <td>Alexander Pope</td>\n",
       "      <td>Attacked</td>\n",
       "    </tr>\n",
       "    <tr>\n",
       "      <th>7</th>\n",
       "      <td>Cibber, Colley</td>\n",
       "      <td>Testimonies</td>\n",
       "      <td>Pope compares Cibber to Dennis</td>\n",
       "      <td>John Dennis</td>\n",
       "      <td>Akin to</td>\n",
       "    </tr>\n",
       "    <tr>\n",
       "      <th>...</th>\n",
       "      <td>...</td>\n",
       "      <td>...</td>\n",
       "      <td>...</td>\n",
       "      <td>...</td>\n",
       "      <td>...</td>\n",
       "    </tr>\n",
       "    <tr>\n",
       "      <th>34</th>\n",
       "      <td>Jacob, Giles</td>\n",
       "      <td>III, Note to 149, 150</td>\n",
       "      <td>Jacob’s association with Dennis (Blunderbuss a...</td>\n",
       "      <td>John Dennis</td>\n",
       "      <td>Akin to</td>\n",
       "    </tr>\n",
       "    <tr>\n",
       "      <th>36</th>\n",
       "      <td>Jacob, Giles</td>\n",
       "      <td>III, Note to 149, 150</td>\n",
       "      <td>Jacob’s respect for our Author</td>\n",
       "      <td>Alexander Pope</td>\n",
       "      <td>Attacked</td>\n",
       "    </tr>\n",
       "    <tr>\n",
       "      <th>37</th>\n",
       "      <td>Jacob, Giles</td>\n",
       "      <td>III, Note to 149, 150</td>\n",
       "      <td>Jacob’s letter to Dennis</td>\n",
       "      <td>John Dennis</td>\n",
       "      <td>Akin to</td>\n",
       "    </tr>\n",
       "    <tr>\n",
       "      <th>38</th>\n",
       "      <td>Jacob, Giles</td>\n",
       "      <td>III, Note to 173</td>\n",
       "      <td>Alludes to Dennis’s account of himself in Jaco...</td>\n",
       "      <td>John Dennis</td>\n",
       "      <td>Defended</td>\n",
       "    </tr>\n",
       "    <tr>\n",
       "      <th>40</th>\n",
       "      <td>Jacob, Giles</td>\n",
       "      <td>III, Note to 326</td>\n",
       "      <td>Jacob on Ambrose Phillips</td>\n",
       "      <td>Ambrose Phillips</td>\n",
       "      <td>Defended</td>\n",
       "    </tr>\n",
       "  </tbody>\n",
       "</table>\n",
       "<p>321 rows × 5 columns</p>\n",
       "</div>"
      ],
      "text/plain": [
       "            person                address  \\\n",
       "2   Cibber, Colley            Testimonies   \n",
       "4   Cibber, Colley            Testimonies   \n",
       "5   Cibber, Colley            Testimonies   \n",
       "6   Cibber, Colley            Testimonies   \n",
       "7   Cibber, Colley            Testimonies   \n",
       "..             ...                    ...   \n",
       "34    Jacob, Giles  III, Note to 149, 150   \n",
       "36    Jacob, Giles  III, Note to 149, 150   \n",
       "37    Jacob, Giles  III, Note to 149, 150   \n",
       "38    Jacob, Giles       III, Note to 173   \n",
       "40    Jacob, Giles       III, Note to 326   \n",
       "\n",
       "                                            reference          referent  \\\n",
       "2   Hervey compares Pope to Dryden and Prior in A ...       John Hervey   \n",
       "4                                                 NaN       John Dryden   \n",
       "5                                                 NaN     Matthew Prior   \n",
       "6                               Cibber on the Dunciad    Alexander Pope   \n",
       "7                      Pope compares Cibber to Dennis       John Dennis   \n",
       "..                                                ...               ...   \n",
       "34  Jacob’s association with Dennis (Blunderbuss a...       John Dennis   \n",
       "36                     Jacob’s respect for our Author    Alexander Pope   \n",
       "37                           Jacob’s letter to Dennis       John Dennis   \n",
       "38  Alludes to Dennis’s account of himself in Jaco...       John Dennis   \n",
       "40                          Jacob on Ambrose Phillips  Ambrose Phillips   \n",
       "\n",
       "    relation  \n",
       "2    Akin to  \n",
       "4   Attacked  \n",
       "5   Attacked  \n",
       "6   Attacked  \n",
       "7    Akin to  \n",
       "..       ...  \n",
       "34   Akin to  \n",
       "36  Attacked  \n",
       "37   Akin to  \n",
       "38  Defended  \n",
       "40  Defended  \n",
       "\n",
       "[321 rows x 5 columns]"
      ]
     },
     "execution_count": 6,
     "metadata": {},
     "output_type": "execute_result"
    }
   ],
   "source": [
    "edges"
   ]
  },
  {
   "cell_type": "markdown",
   "id": "004413bb-6346-49b5-afcb-5c7759ae0963",
   "metadata": {},
   "source": [
    "## Clean up values"
   ]
  },
  {
   "cell_type": "code",
   "execution_count": 7,
   "id": "72b6d710-625c-4dc0-b013-d3d3609303be",
   "metadata": {
    "tags": []
   },
   "outputs": [],
   "source": [
    "for col in edges.columns:\n",
    "    edges[col] = edges[col].str.strip()"
   ]
  },
  {
   "cell_type": "code",
   "execution_count": 8,
   "id": "1db706fd-e1fe-4626-83d3-68a6919c3c3a",
   "metadata": {
    "tags": []
   },
   "outputs": [],
   "source": [
    "edges['relation_id'] = edges['relation'].str.lower().str.replace(' ', '_')"
   ]
  },
  {
   "cell_type": "code",
   "execution_count": 9,
   "id": "043ad57d-07f7-4ead-82dc-9811e5fe1eb3",
   "metadata": {
    "tags": []
   },
   "outputs": [
    {
     "data": {
      "text/html": [
       "<div>\n",
       "<style scoped>\n",
       "    .dataframe tbody tr th:only-of-type {\n",
       "        vertical-align: middle;\n",
       "    }\n",
       "\n",
       "    .dataframe tbody tr th {\n",
       "        vertical-align: top;\n",
       "    }\n",
       "\n",
       "    .dataframe thead th {\n",
       "        text-align: right;\n",
       "    }\n",
       "</style>\n",
       "<table border=\"1\" class=\"dataframe\">\n",
       "  <thead>\n",
       "    <tr style=\"text-align: right;\">\n",
       "      <th></th>\n",
       "      <th>person</th>\n",
       "      <th>address</th>\n",
       "      <th>reference</th>\n",
       "      <th>referent</th>\n",
       "      <th>relation</th>\n",
       "      <th>relation_id</th>\n",
       "    </tr>\n",
       "  </thead>\n",
       "  <tbody>\n",
       "    <tr>\n",
       "      <th>2</th>\n",
       "      <td>Cibber, Colley</td>\n",
       "      <td>Testimonies</td>\n",
       "      <td>Hervey compares Pope to Dryden and Prior in A ...</td>\n",
       "      <td>John Hervey</td>\n",
       "      <td>Akin to</td>\n",
       "      <td>akin_to</td>\n",
       "    </tr>\n",
       "    <tr>\n",
       "      <th>4</th>\n",
       "      <td>Cibber, Colley</td>\n",
       "      <td>Testimonies</td>\n",
       "      <td>NaN</td>\n",
       "      <td>John Dryden</td>\n",
       "      <td>Attacked</td>\n",
       "      <td>attacked</td>\n",
       "    </tr>\n",
       "    <tr>\n",
       "      <th>5</th>\n",
       "      <td>Cibber, Colley</td>\n",
       "      <td>Testimonies</td>\n",
       "      <td>NaN</td>\n",
       "      <td>Matthew Prior</td>\n",
       "      <td>Attacked</td>\n",
       "      <td>attacked</td>\n",
       "    </tr>\n",
       "    <tr>\n",
       "      <th>6</th>\n",
       "      <td>Cibber, Colley</td>\n",
       "      <td>Testimonies</td>\n",
       "      <td>Cibber on the Dunciad</td>\n",
       "      <td>Alexander Pope</td>\n",
       "      <td>Attacked</td>\n",
       "      <td>attacked</td>\n",
       "    </tr>\n",
       "    <tr>\n",
       "      <th>7</th>\n",
       "      <td>Cibber, Colley</td>\n",
       "      <td>Testimonies</td>\n",
       "      <td>Pope compares Cibber to Dennis</td>\n",
       "      <td>John Dennis</td>\n",
       "      <td>Akin to</td>\n",
       "      <td>akin_to</td>\n",
       "    </tr>\n",
       "    <tr>\n",
       "      <th>...</th>\n",
       "      <td>...</td>\n",
       "      <td>...</td>\n",
       "      <td>...</td>\n",
       "      <td>...</td>\n",
       "      <td>...</td>\n",
       "      <td>...</td>\n",
       "    </tr>\n",
       "    <tr>\n",
       "      <th>34</th>\n",
       "      <td>Jacob, Giles</td>\n",
       "      <td>III, Note to 149, 150</td>\n",
       "      <td>Jacob’s association with Dennis (Blunderbuss a...</td>\n",
       "      <td>John Dennis</td>\n",
       "      <td>Akin to</td>\n",
       "      <td>akin_to</td>\n",
       "    </tr>\n",
       "    <tr>\n",
       "      <th>36</th>\n",
       "      <td>Jacob, Giles</td>\n",
       "      <td>III, Note to 149, 150</td>\n",
       "      <td>Jacob’s respect for our Author</td>\n",
       "      <td>Alexander Pope</td>\n",
       "      <td>Attacked</td>\n",
       "      <td>attacked</td>\n",
       "    </tr>\n",
       "    <tr>\n",
       "      <th>37</th>\n",
       "      <td>Jacob, Giles</td>\n",
       "      <td>III, Note to 149, 150</td>\n",
       "      <td>Jacob’s letter to Dennis</td>\n",
       "      <td>John Dennis</td>\n",
       "      <td>Akin to</td>\n",
       "      <td>akin_to</td>\n",
       "    </tr>\n",
       "    <tr>\n",
       "      <th>38</th>\n",
       "      <td>Jacob, Giles</td>\n",
       "      <td>III, Note to 173</td>\n",
       "      <td>Alludes to Dennis’s account of himself in Jaco...</td>\n",
       "      <td>John Dennis</td>\n",
       "      <td>Defended</td>\n",
       "      <td>defended</td>\n",
       "    </tr>\n",
       "    <tr>\n",
       "      <th>40</th>\n",
       "      <td>Jacob, Giles</td>\n",
       "      <td>III, Note to 326</td>\n",
       "      <td>Jacob on Ambrose Phillips</td>\n",
       "      <td>Ambrose Phillips</td>\n",
       "      <td>Defended</td>\n",
       "      <td>defended</td>\n",
       "    </tr>\n",
       "  </tbody>\n",
       "</table>\n",
       "<p>321 rows × 6 columns</p>\n",
       "</div>"
      ],
      "text/plain": [
       "            person                address  \\\n",
       "2   Cibber, Colley            Testimonies   \n",
       "4   Cibber, Colley            Testimonies   \n",
       "5   Cibber, Colley            Testimonies   \n",
       "6   Cibber, Colley            Testimonies   \n",
       "7   Cibber, Colley            Testimonies   \n",
       "..             ...                    ...   \n",
       "34    Jacob, Giles  III, Note to 149, 150   \n",
       "36    Jacob, Giles  III, Note to 149, 150   \n",
       "37    Jacob, Giles  III, Note to 149, 150   \n",
       "38    Jacob, Giles       III, Note to 173   \n",
       "40    Jacob, Giles       III, Note to 326   \n",
       "\n",
       "                                            reference          referent  \\\n",
       "2   Hervey compares Pope to Dryden and Prior in A ...       John Hervey   \n",
       "4                                                 NaN       John Dryden   \n",
       "5                                                 NaN     Matthew Prior   \n",
       "6                               Cibber on the Dunciad    Alexander Pope   \n",
       "7                      Pope compares Cibber to Dennis       John Dennis   \n",
       "..                                                ...               ...   \n",
       "34  Jacob’s association with Dennis (Blunderbuss a...       John Dennis   \n",
       "36                     Jacob’s respect for our Author    Alexander Pope   \n",
       "37                           Jacob’s letter to Dennis       John Dennis   \n",
       "38  Alludes to Dennis’s account of himself in Jaco...       John Dennis   \n",
       "40                          Jacob on Ambrose Phillips  Ambrose Phillips   \n",
       "\n",
       "    relation relation_id  \n",
       "2    Akin to     akin_to  \n",
       "4   Attacked    attacked  \n",
       "5   Attacked    attacked  \n",
       "6   Attacked    attacked  \n",
       "7    Akin to     akin_to  \n",
       "..       ...         ...  \n",
       "34   Akin to     akin_to  \n",
       "36  Attacked    attacked  \n",
       "37   Akin to     akin_to  \n",
       "38  Defended    defended  \n",
       "40  Defended    defended  \n",
       "\n",
       "[321 rows x 6 columns]"
      ]
     },
     "execution_count": 9,
     "metadata": {},
     "output_type": "execute_result"
    }
   ],
   "source": [
    "edges"
   ]
  },
  {
   "cell_type": "markdown",
   "id": "2c70cb20-365b-472d-855e-20d39193a347",
   "metadata": {},
   "source": [
    "## Normalize names"
   ]
  },
  {
   "cell_type": "code",
   "execution_count": 10,
   "id": "738b5a72-7b77-4944-aff9-e0ab5ea53953",
   "metadata": {
    "tags": []
   },
   "outputs": [],
   "source": [
    "edges.loc[edges.person.str.contains(','), 'person'] = edges.loc[edges.person.str.contains(',')].person.apply(lambda x: f\"{x.split(',')[1].strip()} {x.split(',')[0]}\")"
   ]
  },
  {
   "cell_type": "code",
   "execution_count": 11,
   "id": "27b539b2-29a6-49db-a5fa-62c4954cac57",
   "metadata": {
    "tags": []
   },
   "outputs": [],
   "source": [
    "edges.loc[edges.person == 'Edmund Curl', 'person'] = 'Edmund Curll' "
   ]
  },
  {
   "cell_type": "code",
   "execution_count": 12,
   "id": "5fe8494f-5354-420a-84c3-4e4b1b0d6ccb",
   "metadata": {
    "tags": []
   },
   "outputs": [],
   "source": [
    "edges.loc[edges.person == 'Curll Edmund', 'person'] = 'Edmund Curll' "
   ]
  },
  {
   "cell_type": "code",
   "execution_count": 13,
   "id": "32c7f36f-7437-4c41-881f-1fcf606c93b5",
   "metadata": {
    "tags": []
   },
   "outputs": [
    {
     "data": {
      "text/plain": [
       "person\n",
       "Edmund Curll     115\n",
       "John Dennis      109\n",
       "Colley Cibber     71\n",
       "Giles Jacob       18\n",
       "John Henley        8\n",
       "Name: count, dtype: int64"
      ]
     },
     "execution_count": 13,
     "metadata": {},
     "output_type": "execute_result"
    }
   ],
   "source": [
    "edges.person.value_counts()"
   ]
  },
  {
   "cell_type": "code",
   "execution_count": 14,
   "id": "d6e4fd6a-11d8-4c31-b1c0-596774482c52",
   "metadata": {
    "tags": []
   },
   "outputs": [
    {
     "data": {
      "text/html": [
       "<div>\n",
       "<style scoped>\n",
       "    .dataframe tbody tr th:only-of-type {\n",
       "        vertical-align: middle;\n",
       "    }\n",
       "\n",
       "    .dataframe tbody tr th {\n",
       "        vertical-align: top;\n",
       "    }\n",
       "\n",
       "    .dataframe thead th {\n",
       "        text-align: right;\n",
       "    }\n",
       "</style>\n",
       "<table border=\"1\" class=\"dataframe\">\n",
       "  <thead>\n",
       "    <tr style=\"text-align: right;\">\n",
       "      <th></th>\n",
       "      <th>person</th>\n",
       "      <th>address</th>\n",
       "      <th>reference</th>\n",
       "      <th>referent</th>\n",
       "      <th>relation</th>\n",
       "      <th>relation_id</th>\n",
       "    </tr>\n",
       "  </thead>\n",
       "  <tbody>\n",
       "    <tr>\n",
       "      <th>2</th>\n",
       "      <td>Colley Cibber</td>\n",
       "      <td>Testimonies</td>\n",
       "      <td>Hervey compares Pope to Dryden and Prior in A ...</td>\n",
       "      <td>John Hervey</td>\n",
       "      <td>Akin to</td>\n",
       "      <td>akin_to</td>\n",
       "    </tr>\n",
       "    <tr>\n",
       "      <th>4</th>\n",
       "      <td>Colley Cibber</td>\n",
       "      <td>Testimonies</td>\n",
       "      <td>NaN</td>\n",
       "      <td>John Dryden</td>\n",
       "      <td>Attacked</td>\n",
       "      <td>attacked</td>\n",
       "    </tr>\n",
       "    <tr>\n",
       "      <th>5</th>\n",
       "      <td>Colley Cibber</td>\n",
       "      <td>Testimonies</td>\n",
       "      <td>NaN</td>\n",
       "      <td>Matthew Prior</td>\n",
       "      <td>Attacked</td>\n",
       "      <td>attacked</td>\n",
       "    </tr>\n",
       "    <tr>\n",
       "      <th>6</th>\n",
       "      <td>Colley Cibber</td>\n",
       "      <td>Testimonies</td>\n",
       "      <td>Cibber on the Dunciad</td>\n",
       "      <td>Alexander Pope</td>\n",
       "      <td>Attacked</td>\n",
       "      <td>attacked</td>\n",
       "    </tr>\n",
       "    <tr>\n",
       "      <th>7</th>\n",
       "      <td>Colley Cibber</td>\n",
       "      <td>Testimonies</td>\n",
       "      <td>Pope compares Cibber to Dennis</td>\n",
       "      <td>John Dennis</td>\n",
       "      <td>Akin to</td>\n",
       "      <td>akin_to</td>\n",
       "    </tr>\n",
       "    <tr>\n",
       "      <th>...</th>\n",
       "      <td>...</td>\n",
       "      <td>...</td>\n",
       "      <td>...</td>\n",
       "      <td>...</td>\n",
       "      <td>...</td>\n",
       "      <td>...</td>\n",
       "    </tr>\n",
       "    <tr>\n",
       "      <th>34</th>\n",
       "      <td>Giles Jacob</td>\n",
       "      <td>III, Note to 149, 150</td>\n",
       "      <td>Jacob’s association with Dennis (Blunderbuss a...</td>\n",
       "      <td>John Dennis</td>\n",
       "      <td>Akin to</td>\n",
       "      <td>akin_to</td>\n",
       "    </tr>\n",
       "    <tr>\n",
       "      <th>36</th>\n",
       "      <td>Giles Jacob</td>\n",
       "      <td>III, Note to 149, 150</td>\n",
       "      <td>Jacob’s respect for our Author</td>\n",
       "      <td>Alexander Pope</td>\n",
       "      <td>Attacked</td>\n",
       "      <td>attacked</td>\n",
       "    </tr>\n",
       "    <tr>\n",
       "      <th>37</th>\n",
       "      <td>Giles Jacob</td>\n",
       "      <td>III, Note to 149, 150</td>\n",
       "      <td>Jacob’s letter to Dennis</td>\n",
       "      <td>John Dennis</td>\n",
       "      <td>Akin to</td>\n",
       "      <td>akin_to</td>\n",
       "    </tr>\n",
       "    <tr>\n",
       "      <th>38</th>\n",
       "      <td>Giles Jacob</td>\n",
       "      <td>III, Note to 173</td>\n",
       "      <td>Alludes to Dennis’s account of himself in Jaco...</td>\n",
       "      <td>John Dennis</td>\n",
       "      <td>Defended</td>\n",
       "      <td>defended</td>\n",
       "    </tr>\n",
       "    <tr>\n",
       "      <th>40</th>\n",
       "      <td>Giles Jacob</td>\n",
       "      <td>III, Note to 326</td>\n",
       "      <td>Jacob on Ambrose Phillips</td>\n",
       "      <td>Ambrose Phillips</td>\n",
       "      <td>Defended</td>\n",
       "      <td>defended</td>\n",
       "    </tr>\n",
       "  </tbody>\n",
       "</table>\n",
       "<p>321 rows × 6 columns</p>\n",
       "</div>"
      ],
      "text/plain": [
       "           person                address  \\\n",
       "2   Colley Cibber            Testimonies   \n",
       "4   Colley Cibber            Testimonies   \n",
       "5   Colley Cibber            Testimonies   \n",
       "6   Colley Cibber            Testimonies   \n",
       "7   Colley Cibber            Testimonies   \n",
       "..            ...                    ...   \n",
       "34    Giles Jacob  III, Note to 149, 150   \n",
       "36    Giles Jacob  III, Note to 149, 150   \n",
       "37    Giles Jacob  III, Note to 149, 150   \n",
       "38    Giles Jacob       III, Note to 173   \n",
       "40    Giles Jacob       III, Note to 326   \n",
       "\n",
       "                                            reference          referent  \\\n",
       "2   Hervey compares Pope to Dryden and Prior in A ...       John Hervey   \n",
       "4                                                 NaN       John Dryden   \n",
       "5                                                 NaN     Matthew Prior   \n",
       "6                               Cibber on the Dunciad    Alexander Pope   \n",
       "7                      Pope compares Cibber to Dennis       John Dennis   \n",
       "..                                                ...               ...   \n",
       "34  Jacob’s association with Dennis (Blunderbuss a...       John Dennis   \n",
       "36                     Jacob’s respect for our Author    Alexander Pope   \n",
       "37                           Jacob’s letter to Dennis       John Dennis   \n",
       "38  Alludes to Dennis’s account of himself in Jaco...       John Dennis   \n",
       "40                          Jacob on Ambrose Phillips  Ambrose Phillips   \n",
       "\n",
       "    relation relation_id  \n",
       "2    Akin to     akin_to  \n",
       "4   Attacked    attacked  \n",
       "5   Attacked    attacked  \n",
       "6   Attacked    attacked  \n",
       "7    Akin to     akin_to  \n",
       "..       ...         ...  \n",
       "34   Akin to     akin_to  \n",
       "36  Attacked    attacked  \n",
       "37   Akin to     akin_to  \n",
       "38  Defended    defended  \n",
       "40  Defended    defended  \n",
       "\n",
       "[321 rows x 6 columns]"
      ]
     },
     "execution_count": 14,
     "metadata": {},
     "output_type": "execute_result"
    }
   ],
   "source": [
    "edges"
   ]
  },
  {
   "cell_type": "code",
   "execution_count": 15,
   "id": "a326b7c5-1008-4196-b682-7ca04e27e434",
   "metadata": {
    "tags": []
   },
   "outputs": [],
   "source": [
    "edges.loc[edges.referent.str.contains(','), 'referent'] = edges.loc[edges.referent.str.contains(',')].referent.apply(lambda x: f\"{x.split(',')[1].strip()} {x.split(',')[0]}\")"
   ]
  },
  {
   "cell_type": "code",
   "execution_count": 16,
   "id": "5a7cb930-7ca3-4da6-9ad1-126e6cf341e2",
   "metadata": {
    "tags": []
   },
   "outputs": [],
   "source": [
    "edges.loc[edges.referent == 'Edmund Curl', 'referent'] = 'Edmund Curll' "
   ]
  },
  {
   "cell_type": "code",
   "execution_count": 30,
   "id": "97424387-b1cb-43aa-89cb-e8a8feb94376",
   "metadata": {
    "tags": []
   },
   "outputs": [
    {
     "name": "stdout",
     "output_type": "stream",
     "text": [
      "(possibly) Benjamin Hoadly\n",
      "A. Moore\n",
      "Abel Boyer\n",
      "Abel Evans\n",
      "Abel Roper\n",
      "Alexander Pope\n",
      "Ambrose Phillips\n",
      "B.B.?\n",
      "Barton Booth\n",
      "Bavius\n",
      "Bernard Lintot\n",
      "Besaleel Morris\n",
      "Caius Gabriel Cibber\n",
      "Camillo Querno\n",
      "Cardell Goodman\n",
      "Charles Fleetwood\n",
      "Charles Gildon\n",
      "Colley Cibber\n",
      "Daniel Defoe\n",
      "Dulness\n",
      "Edmund Curll\n",
      "Edmund Gibson\n",
      "Edward Ward\n",
      "Edward Young\n",
      "Eliza Haywood\n",
      "Elizabeth Thomas\n",
      "Elkanah Settle\n",
      "Eustace Budgell\n",
      "Frances Hare\n",
      "Francis Atterbury\n",
      "George Ducket\n",
      "George Duckett\n",
      "George Etherege\n",
      "George I\n",
      "George II\n",
      "George Ridpath\n",
      "Giles Jacob\n",
      "Goddess of the Common-sewers Cloacina\n",
      "Henry Cromwell\n",
      "Henry Curll\n",
      "Henry Janssen\n",
      "Hilkiah (should be Arthur Bedford) Bedford\n",
      "Isaac Barrow\n",
      "Isaac Newton\n",
      "James Moore Smythe\n",
      "James Ralph\n",
      "Jeremy Collier\n",
      "John Anstis\n",
      "John Atterbury\n",
      "John Banks\n",
      "John Dennis\n",
      "John Dryden\n",
      "John Dunton\n",
      "John Durant Breval\n",
      "John Fletcher\n",
      "John Garth\n",
      "John Gay\n",
      "John Henley\n",
      "John Hervey\n",
      "John Locke\n",
      "John Oldmixon\n",
      "John Ozell\n",
      "John Tutchin\n",
      "Jonathan Swift\n",
      "Joseph Addison\n",
      "Joseph Gay (aka John Durant Breval)\n",
      "Lady Mary Wortley Montagu\n",
      "Laurence Eusden\n",
      "Leonard Welsted\n",
      "Lewis Theobald\n",
      "Lord Bishop of London\n",
      "Martinus Scriblerus\n",
      "Matthew Concanen\n",
      "Matthew Prior\n",
      "Philip Dormer Stanhope\n",
      "Richard Bentley\n",
      "Richard Blackmore\n",
      "Richard Flecknoe\n",
      "Robert Walpole\n",
      "S. Popping\n",
      "Samuel Garth\n",
      "Stephen Duck\n",
      "Susanna Centlivre\n",
      "Thomas Archer\n",
      "Thomas Cooke\n",
      "Thomas Osborne\n",
      "Thomas Rymer\n",
      "Thomas Sherlock\n",
      "Thomas Warner\n",
      "Tom D’Urfey\n",
      "Toussaint Edmond de Saint-Mard\n",
      "William Bond\n",
      "William Broome\n",
      "William Congreve\n",
      "William Law\n",
      "William Mears\n",
      "William Temple\n",
      "William Wilkins\n",
      "William Wycherley\n",
      "…\n"
     ]
    }
   ],
   "source": [
    "print('\\n'.join(edges.referent.value_counts().sort_index().index.to_list()))"
   ]
  },
  {
   "cell_type": "markdown",
   "id": "dde2d5fa-d5c5-4412-87f9-c34aa5bd071b",
   "metadata": {},
   "source": [
    "# Extract Relations"
   ]
  },
  {
   "cell_type": "code",
   "execution_count": 18,
   "id": "00632cdb-20f1-4c02-9b07-74715b9e3dff",
   "metadata": {
    "tags": []
   },
   "outputs": [],
   "source": [
    "R = edges.value_counts('relation_id').to_frame('n')"
   ]
  },
  {
   "cell_type": "code",
   "execution_count": 19,
   "id": "a892be3b-e51a-41c6-af53-d4f0163823d4",
   "metadata": {
    "tags": []
   },
   "outputs": [
    {
     "data": {
      "text/html": [
       "<div>\n",
       "<style scoped>\n",
       "    .dataframe tbody tr th:only-of-type {\n",
       "        vertical-align: middle;\n",
       "    }\n",
       "\n",
       "    .dataframe tbody tr th {\n",
       "        vertical-align: top;\n",
       "    }\n",
       "\n",
       "    .dataframe thead th {\n",
       "        text-align: right;\n",
       "    }\n",
       "</style>\n",
       "<table border=\"1\" class=\"dataframe\">\n",
       "  <thead>\n",
       "    <tr style=\"text-align: right;\">\n",
       "      <th></th>\n",
       "      <th>n</th>\n",
       "      <th>color</th>\n",
       "      <th>label</th>\n",
       "    </tr>\n",
       "    <tr>\n",
       "      <th>relation_id</th>\n",
       "      <th></th>\n",
       "      <th></th>\n",
       "      <th></th>\n",
       "    </tr>\n",
       "  </thead>\n",
       "  <tbody>\n",
       "    <tr>\n",
       "      <th>akin_to</th>\n",
       "      <td>170</td>\n",
       "      <td>green</td>\n",
       "      <td>akin to</td>\n",
       "    </tr>\n",
       "    <tr>\n",
       "      <th>attacked</th>\n",
       "      <td>106</td>\n",
       "      <td>red</td>\n",
       "      <td>attacked</td>\n",
       "    </tr>\n",
       "    <tr>\n",
       "      <th>dissimilar</th>\n",
       "      <td>27</td>\n",
       "      <td>orange</td>\n",
       "      <td>dissimilar</td>\n",
       "    </tr>\n",
       "    <tr>\n",
       "      <th>defended</th>\n",
       "      <td>17</td>\n",
       "      <td>blue</td>\n",
       "      <td>defended</td>\n",
       "    </tr>\n",
       "  </tbody>\n",
       "</table>\n",
       "</div>"
      ],
      "text/plain": [
       "               n   color       label\n",
       "relation_id                         \n",
       "akin_to      170   green     akin to\n",
       "attacked     106     red    attacked\n",
       "dissimilar    27  orange  dissimilar\n",
       "defended      17    blue    defended"
      ]
     },
     "execution_count": 19,
     "metadata": {},
     "output_type": "execute_result"
    }
   ],
   "source": [
    "R['color'] = ['green','red','orange','blue']\n",
    "R['label'] = R.index.str.replace('_', ' ')\n",
    "R"
   ]
  },
  {
   "cell_type": "markdown",
   "id": "05fc7385-4a74-45f7-bbb6-89c0f2adf27c",
   "metadata": {},
   "source": [
    "# Extract Nodes"
   ]
  },
  {
   "cell_type": "code",
   "execution_count": 20,
   "id": "aa091eff-793e-425a-9531-6f0e08dc5fee",
   "metadata": {
    "tags": []
   },
   "outputs": [],
   "source": [
    "# Extract and format Nodes\n",
    "N = pd.concat([edges.person, edges.referent]).value_counts().to_frame('n')\n",
    "N = N.reset_index().rename(columns={'index':'full_name'})\n",
    "N['index'] = N['full_name'].str.replace(' ', '_').str.upper().str.replace(r\"\\W\", \"\", regex=True)\n",
    "N = N.set_index('index')\n",
    "N['label'] = N['full_name'].str.replace(' ', '<br/>')\n",
    "N['dot'] = N.apply(lambda x: f\"{x.name} [label=< {x.label} >]\", axis=1)"
   ]
  },
  {
   "cell_type": "code",
   "execution_count": 21,
   "id": "84765de4-de41-4bf5-921c-8929f8bfc5b2",
   "metadata": {
    "tags": []
   },
   "outputs": [
    {
     "data": {
      "text/html": [
       "<div>\n",
       "<style scoped>\n",
       "    .dataframe tbody tr th:only-of-type {\n",
       "        vertical-align: middle;\n",
       "    }\n",
       "\n",
       "    .dataframe tbody tr th {\n",
       "        vertical-align: top;\n",
       "    }\n",
       "\n",
       "    .dataframe thead th {\n",
       "        text-align: right;\n",
       "    }\n",
       "</style>\n",
       "<table border=\"1\" class=\"dataframe\">\n",
       "  <thead>\n",
       "    <tr style=\"text-align: right;\">\n",
       "      <th></th>\n",
       "      <th>full_name</th>\n",
       "      <th>n</th>\n",
       "      <th>label</th>\n",
       "      <th>dot</th>\n",
       "    </tr>\n",
       "    <tr>\n",
       "      <th>index</th>\n",
       "      <th></th>\n",
       "      <th></th>\n",
       "      <th></th>\n",
       "      <th></th>\n",
       "    </tr>\n",
       "  </thead>\n",
       "  <tbody>\n",
       "    <tr>\n",
       "      <th>JOHN_DENNIS</th>\n",
       "      <td>John Dennis</td>\n",
       "      <td>124</td>\n",
       "      <td>John&lt;br/&gt;Dennis</td>\n",
       "      <td>JOHN_DENNIS [label=&lt; John&lt;br/&gt;Dennis &gt;]</td>\n",
       "    </tr>\n",
       "    <tr>\n",
       "      <th>EDMUND_CURLL</th>\n",
       "      <td>Edmund Curll</td>\n",
       "      <td>120</td>\n",
       "      <td>Edmund&lt;br/&gt;Curll</td>\n",
       "      <td>EDMUND_CURLL [label=&lt; Edmund&lt;br/&gt;Curll &gt;]</td>\n",
       "    </tr>\n",
       "    <tr>\n",
       "      <th>ALEXANDER_POPE</th>\n",
       "      <td>Alexander Pope</td>\n",
       "      <td>84</td>\n",
       "      <td>Alexander&lt;br/&gt;Pope</td>\n",
       "      <td>ALEXANDER_POPE [label=&lt; Alexander&lt;br/&gt;Pope &gt;]</td>\n",
       "    </tr>\n",
       "    <tr>\n",
       "      <th>COLLEY_CIBBER</th>\n",
       "      <td>Colley Cibber</td>\n",
       "      <td>75</td>\n",
       "      <td>Colley&lt;br/&gt;Cibber</td>\n",
       "      <td>COLLEY_CIBBER [label=&lt; Colley&lt;br/&gt;Cibber &gt;]</td>\n",
       "    </tr>\n",
       "    <tr>\n",
       "      <th>GILES_JACOB</th>\n",
       "      <td>Giles Jacob</td>\n",
       "      <td>22</td>\n",
       "      <td>Giles&lt;br/&gt;Jacob</td>\n",
       "      <td>GILES_JACOB [label=&lt; Giles&lt;br/&gt;Jacob &gt;]</td>\n",
       "    </tr>\n",
       "  </tbody>\n",
       "</table>\n",
       "</div>"
      ],
      "text/plain": [
       "                     full_name    n               label  \\\n",
       "index                                                     \n",
       "JOHN_DENNIS        John Dennis  124     John<br/>Dennis   \n",
       "EDMUND_CURLL      Edmund Curll  120    Edmund<br/>Curll   \n",
       "ALEXANDER_POPE  Alexander Pope   84  Alexander<br/>Pope   \n",
       "COLLEY_CIBBER    Colley Cibber   75   Colley<br/>Cibber   \n",
       "GILES_JACOB        Giles Jacob   22     Giles<br/>Jacob   \n",
       "\n",
       "                                                          dot  \n",
       "index                                                          \n",
       "JOHN_DENNIS           JOHN_DENNIS [label=< John<br/>Dennis >]  \n",
       "EDMUND_CURLL        EDMUND_CURLL [label=< Edmund<br/>Curll >]  \n",
       "ALEXANDER_POPE  ALEXANDER_POPE [label=< Alexander<br/>Pope >]  \n",
       "COLLEY_CIBBER     COLLEY_CIBBER [label=< Colley<br/>Cibber >]  \n",
       "GILES_JACOB           GILES_JACOB [label=< Giles<br/>Jacob >]  "
      ]
     },
     "execution_count": 21,
     "metadata": {},
     "output_type": "execute_result"
    }
   ],
   "source": [
    "N.head()"
   ]
  },
  {
   "cell_type": "markdown",
   "id": "ab48c6ea-e0f3-4e90-8fc3-3a8beab0a7c9",
   "metadata": {},
   "source": [
    "# Extract Edges"
   ]
  },
  {
   "cell_type": "code",
   "execution_count": 22,
   "id": "a77ffbe9-05e3-4333-bee7-7bdefe47ae9e",
   "metadata": {
    "tags": []
   },
   "outputs": [],
   "source": [
    "edges['person_id'] = edges.person.map(N.reset_index().set_index('full_name')['index'])\n",
    "edges['referent_id'] = edges.referent.map(N.reset_index().set_index('full_name')['index'])\n",
    "# edges['relation_id'] = edges.relation.str.lower().str.replace(' ', '_', regex=True)"
   ]
  },
  {
   "cell_type": "code",
   "execution_count": 23,
   "id": "8a5a6307-1b02-4fa7-8c47-4bbc99334244",
   "metadata": {
    "tags": []
   },
   "outputs": [
    {
     "data": {
      "text/html": [
       "<div>\n",
       "<style scoped>\n",
       "    .dataframe tbody tr th:only-of-type {\n",
       "        vertical-align: middle;\n",
       "    }\n",
       "\n",
       "    .dataframe tbody tr th {\n",
       "        vertical-align: top;\n",
       "    }\n",
       "\n",
       "    .dataframe thead th {\n",
       "        text-align: right;\n",
       "    }\n",
       "</style>\n",
       "<table border=\"1\" class=\"dataframe\">\n",
       "  <thead>\n",
       "    <tr style=\"text-align: right;\">\n",
       "      <th></th>\n",
       "      <th></th>\n",
       "      <th></th>\n",
       "      <th>n</th>\n",
       "    </tr>\n",
       "    <tr>\n",
       "      <th>person_id</th>\n",
       "      <th>referent_id</th>\n",
       "      <th>relation_id</th>\n",
       "      <th></th>\n",
       "    </tr>\n",
       "  </thead>\n",
       "  <tbody>\n",
       "    <tr>\n",
       "      <th rowspan=\"5\" valign=\"top\">COLLEY_CIBBER</th>\n",
       "      <th>ALEXANDER_POPE</th>\n",
       "      <th>attacked</th>\n",
       "      <td>10</td>\n",
       "    </tr>\n",
       "    <tr>\n",
       "      <th>BARTON_BOOTH</th>\n",
       "      <th>akin_to</th>\n",
       "      <td>1</td>\n",
       "    </tr>\n",
       "    <tr>\n",
       "      <th>CAIUS_GABRIEL_CIBBER</th>\n",
       "      <th>akin_to</th>\n",
       "      <td>2</td>\n",
       "    </tr>\n",
       "    <tr>\n",
       "      <th>CAMILLO_QUERNO</th>\n",
       "      <th>akin_to</th>\n",
       "      <td>2</td>\n",
       "    </tr>\n",
       "    <tr>\n",
       "      <th>CARDELL_GOODMAN</th>\n",
       "      <th>akin_to</th>\n",
       "      <td>1</td>\n",
       "    </tr>\n",
       "  </tbody>\n",
       "</table>\n",
       "</div>"
      ],
      "text/plain": [
       "                                                 n\n",
       "person_id     referent_id          relation_id    \n",
       "COLLEY_CIBBER ALEXANDER_POPE       attacked     10\n",
       "              BARTON_BOOTH         akin_to       1\n",
       "              CAIUS_GABRIEL_CIBBER akin_to       2\n",
       "              CAMILLO_QUERNO       akin_to       2\n",
       "              CARDELL_GOODMAN      akin_to       1"
      ]
     },
     "execution_count": 23,
     "metadata": {},
     "output_type": "execute_result"
    }
   ],
   "source": [
    "# Extract Edges\n",
    "E = edges.groupby(['person_id','referent_id','relation_id']).relation_id.count().to_frame('n')\n",
    "E.head()"
   ]
  },
  {
   "cell_type": "code",
   "execution_count": 24,
   "id": "cf236a05-76ea-496e-9dac-2cf961d1793a",
   "metadata": {
    "tags": []
   },
   "outputs": [],
   "source": [
    "E['dot'] = E.apply(lambda x: f\"{x.name[0]} -> {x.name[1]} [color={R.loc[x.name[2], 'color']} weight={x.n**2}]\", axis=1)"
   ]
  },
  {
   "cell_type": "code",
   "execution_count": 25,
   "id": "94fcbb75-a96e-4c39-85d3-99ba3fee3e9a",
   "metadata": {
    "tags": []
   },
   "outputs": [
    {
     "data": {
      "text/html": [
       "<div>\n",
       "<style scoped>\n",
       "    .dataframe tbody tr th:only-of-type {\n",
       "        vertical-align: middle;\n",
       "    }\n",
       "\n",
       "    .dataframe tbody tr th {\n",
       "        vertical-align: top;\n",
       "    }\n",
       "\n",
       "    .dataframe thead th {\n",
       "        text-align: right;\n",
       "    }\n",
       "</style>\n",
       "<table border=\"1\" class=\"dataframe\">\n",
       "  <thead>\n",
       "    <tr style=\"text-align: right;\">\n",
       "      <th></th>\n",
       "      <th></th>\n",
       "      <th></th>\n",
       "      <th>n</th>\n",
       "      <th>dot</th>\n",
       "    </tr>\n",
       "    <tr>\n",
       "      <th>person_id</th>\n",
       "      <th>referent_id</th>\n",
       "      <th>relation_id</th>\n",
       "      <th></th>\n",
       "      <th></th>\n",
       "    </tr>\n",
       "  </thead>\n",
       "  <tbody>\n",
       "    <tr>\n",
       "      <th rowspan=\"5\" valign=\"top\">COLLEY_CIBBER</th>\n",
       "      <th>ALEXANDER_POPE</th>\n",
       "      <th>attacked</th>\n",
       "      <td>10</td>\n",
       "      <td>COLLEY_CIBBER -&gt; ALEXANDER_POPE [color=red wei...</td>\n",
       "    </tr>\n",
       "    <tr>\n",
       "      <th>BARTON_BOOTH</th>\n",
       "      <th>akin_to</th>\n",
       "      <td>1</td>\n",
       "      <td>COLLEY_CIBBER -&gt; BARTON_BOOTH [color=green wei...</td>\n",
       "    </tr>\n",
       "    <tr>\n",
       "      <th>CAIUS_GABRIEL_CIBBER</th>\n",
       "      <th>akin_to</th>\n",
       "      <td>2</td>\n",
       "      <td>COLLEY_CIBBER -&gt; CAIUS_GABRIEL_CIBBER [color=g...</td>\n",
       "    </tr>\n",
       "    <tr>\n",
       "      <th>CAMILLO_QUERNO</th>\n",
       "      <th>akin_to</th>\n",
       "      <td>2</td>\n",
       "      <td>COLLEY_CIBBER -&gt; CAMILLO_QUERNO [color=green w...</td>\n",
       "    </tr>\n",
       "    <tr>\n",
       "      <th>CARDELL_GOODMAN</th>\n",
       "      <th>akin_to</th>\n",
       "      <td>1</td>\n",
       "      <td>COLLEY_CIBBER -&gt; CARDELL_GOODMAN [color=green ...</td>\n",
       "    </tr>\n",
       "    <tr>\n",
       "      <th>...</th>\n",
       "      <th>...</th>\n",
       "      <th>...</th>\n",
       "      <td>...</td>\n",
       "      <td>...</td>\n",
       "    </tr>\n",
       "    <tr>\n",
       "      <th rowspan=\"5\" valign=\"top\">JOHN_HENLEY</th>\n",
       "      <th>JAMES_RALPH</th>\n",
       "      <th>akin_to</th>\n",
       "      <td>2</td>\n",
       "      <td>JOHN_HENLEY -&gt; JAMES_RALPH [color=green weight=4]</td>\n",
       "    </tr>\n",
       "    <tr>\n",
       "      <th>POSSIBLY_BENJAMIN_HOADLY</th>\n",
       "      <th>akin_to</th>\n",
       "      <td>1</td>\n",
       "      <td>JOHN_HENLEY -&gt; POSSIBLY_BENJAMIN_HOADLY [color...</td>\n",
       "    </tr>\n",
       "    <tr>\n",
       "      <th>RICHARD_BLACKMORE</th>\n",
       "      <th>akin_to</th>\n",
       "      <td>1</td>\n",
       "      <td>JOHN_HENLEY -&gt; RICHARD_BLACKMORE [color=green ...</td>\n",
       "    </tr>\n",
       "    <tr>\n",
       "      <th>RICHARD_FLECKNOE</th>\n",
       "      <th>akin_to</th>\n",
       "      <td>1</td>\n",
       "      <td>JOHN_HENLEY -&gt; RICHARD_FLECKNOE [color=green w...</td>\n",
       "    </tr>\n",
       "    <tr>\n",
       "      <th>THOMAS_SHERLOCK</th>\n",
       "      <th>akin_to</th>\n",
       "      <td>1</td>\n",
       "      <td>JOHN_HENLEY -&gt; THOMAS_SHERLOCK [color=green we...</td>\n",
       "    </tr>\n",
       "  </tbody>\n",
       "</table>\n",
       "<p>146 rows × 2 columns</p>\n",
       "</div>"
      ],
      "text/plain": [
       "                                                     n  \\\n",
       "person_id     referent_id              relation_id       \n",
       "COLLEY_CIBBER ALEXANDER_POPE           attacked     10   \n",
       "              BARTON_BOOTH             akin_to       1   \n",
       "              CAIUS_GABRIEL_CIBBER     akin_to       2   \n",
       "              CAMILLO_QUERNO           akin_to       2   \n",
       "              CARDELL_GOODMAN          akin_to       1   \n",
       "...                                                 ..   \n",
       "JOHN_HENLEY   JAMES_RALPH              akin_to       2   \n",
       "              POSSIBLY_BENJAMIN_HOADLY akin_to       1   \n",
       "              RICHARD_BLACKMORE        akin_to       1   \n",
       "              RICHARD_FLECKNOE         akin_to       1   \n",
       "              THOMAS_SHERLOCK          akin_to       1   \n",
       "\n",
       "                                                                                                  dot  \n",
       "person_id     referent_id              relation_id                                                     \n",
       "COLLEY_CIBBER ALEXANDER_POPE           attacked     COLLEY_CIBBER -> ALEXANDER_POPE [color=red wei...  \n",
       "              BARTON_BOOTH             akin_to      COLLEY_CIBBER -> BARTON_BOOTH [color=green wei...  \n",
       "              CAIUS_GABRIEL_CIBBER     akin_to      COLLEY_CIBBER -> CAIUS_GABRIEL_CIBBER [color=g...  \n",
       "              CAMILLO_QUERNO           akin_to      COLLEY_CIBBER -> CAMILLO_QUERNO [color=green w...  \n",
       "              CARDELL_GOODMAN          akin_to      COLLEY_CIBBER -> CARDELL_GOODMAN [color=green ...  \n",
       "...                                                                                               ...  \n",
       "JOHN_HENLEY   JAMES_RALPH              akin_to      JOHN_HENLEY -> JAMES_RALPH [color=green weight=4]  \n",
       "              POSSIBLY_BENJAMIN_HOADLY akin_to      JOHN_HENLEY -> POSSIBLY_BENJAMIN_HOADLY [color...  \n",
       "              RICHARD_BLACKMORE        akin_to      JOHN_HENLEY -> RICHARD_BLACKMORE [color=green ...  \n",
       "              RICHARD_FLECKNOE         akin_to      JOHN_HENLEY -> RICHARD_FLECKNOE [color=green w...  \n",
       "              THOMAS_SHERLOCK          akin_to      JOHN_HENLEY -> THOMAS_SHERLOCK [color=green we...  \n",
       "\n",
       "[146 rows x 2 columns]"
      ]
     },
     "execution_count": 25,
     "metadata": {},
     "output_type": "execute_result"
    }
   ],
   "source": [
    "E"
   ]
  },
  {
   "cell_type": "markdown",
   "id": "f4e8b4b4-369a-49d0-98c8-aa5723b9e574",
   "metadata": {},
   "source": [
    "# Draw Graphs"
   ]
  },
  {
   "cell_type": "code",
   "execution_count": 26,
   "id": "a16a4909-0dea-4b00-be6c-bf48ff2e4018",
   "metadata": {
    "tags": []
   },
   "outputs": [],
   "source": [
    "def create_graph(persons:[]=[], mode='fdp'):\n",
    "    global E, N    \n",
    "    \n",
    "    # Create subsets of N and E\n",
    "    E1 = E.loc[persons] if len(persons) > 0 else E\n",
    "    node_idx = list(set(persons + E1.reset_index()['referent_id'].to_list()))\n",
    "    N1 = N.loc[node_idx].sort_index()\n",
    "    \n",
    "    # Convert to Graphviz\n",
    "    graph_text = \"digraph G {\\n\"\n",
    "    graph_text += \"rankdir=LR\\n\"\n",
    "    graph_text += \"node [shape=plaintext]\\n\"\n",
    "    graph_text += '\\n'.join(N1['dot'].values)\n",
    "    graph_text += \"\\n\"\n",
    "    graph_text += '\\n'.join(E1['dot'].values)\n",
    "    graph_text += \"\\n}\"\n",
    "    \n",
    "    # print(graph_text)\n",
    "    \n",
    "    # Print to file\n",
    "    file_name = '_'.join(persons) + \".dot\" if len(persons) else \"images/all.dot\"\n",
    "    file_name = image_dir + \"/\" + file_name\n",
    "    print(file_name)\n",
    "    with open(file_name, \"w\") as outfile:\n",
    "        outfile.write(graph_text)\n",
    "    \n",
    "    for format in \"jpeg svg png\".split():\n",
    "        os.system(f\"circo -K{mode} -Tjpeg {file_name} > {file_name}_{mode}.{format}\")"
   ]
  },
  {
   "cell_type": "code",
   "execution_count": 27,
   "id": "c019b903-b343-42ec-814e-13ec6781d023",
   "metadata": {
    "tags": []
   },
   "outputs": [],
   "source": [
    "persons = E.index.levels[0].to_list()"
   ]
  },
  {
   "cell_type": "code",
   "execution_count": 28,
   "id": "52303814-a13e-4eae-98e4-d1f82aa77e2f",
   "metadata": {
    "tags": []
   },
   "outputs": [
    {
     "name": "stdout",
     "output_type": "stream",
     "text": [
      "images/COLLEY_CIBBER_EDMUND_CURLL_GILES_JACOB_JOHN_DENNIS_JOHN_HENLEY.dot\n"
     ]
    }
   ],
   "source": [
    "create_graph(persons)"
   ]
  },
  {
   "cell_type": "code",
   "execution_count": 29,
   "id": "7acd7cac-d1ed-4f8c-bf01-2cea43004c91",
   "metadata": {
    "tags": []
   },
   "outputs": [
    {
     "name": "stdout",
     "output_type": "stream",
     "text": [
      "images/COLLEY_CIBBER.dot\n",
      "images/EDMUND_CURLL.dot\n",
      "images/GILES_JACOB.dot\n",
      "images/JOHN_DENNIS.dot\n",
      "images/JOHN_HENLEY.dot\n"
     ]
    }
   ],
   "source": [
    "for person in persons:\n",
    "    create_graph([person])"
   ]
  },
  {
   "cell_type": "code",
   "execution_count": null,
   "id": "ea9fe433-5e1f-4c13-8b79-468c68520911",
   "metadata": {},
   "outputs": [],
   "source": []
  }
 ],
 "metadata": {
  "kernelspec": {
   "display_name": "eta2",
   "language": "python",
   "name": "eta2"
  },
  "language_info": {
   "codemirror_mode": {
    "name": "ipython",
    "version": 3
   },
   "file_extension": ".py",
   "mimetype": "text/x-python",
   "name": "python",
   "nbconvert_exporter": "python",
   "pygments_lexer": "ipython3",
   "version": "3.11.5"
  },
  "widgets": {
   "application/vnd.jupyter.widget-state+json": {
    "state": {},
    "version_major": 2,
    "version_minor": 0
   }
  }
 },
 "nbformat": 4,
 "nbformat_minor": 5
}
