{
 "cells": [
  {
   "cell_type": "markdown",
   "id": "be979946-e378-4a6d-8cd4-7b2aff7e94df",
   "metadata": {
    "tags": []
   },
   "source": [
    "# Import Libraries"
   ]
  },
  {
   "cell_type": "code",
   "execution_count": 1,
   "id": "ba3aa990-945e-43b1-bed0-952f31fc8644",
   "metadata": {
    "tags": []
   },
   "outputs": [],
   "source": [
    "import pandas as pd\n",
    "import os"
   ]
  },
  {
   "cell_type": "markdown",
   "id": "7a093a9d-ffcd-471f-a6a4-bde1adfde7ea",
   "metadata": {},
   "source": [
    "# Get Raw Data"
   ]
  },
  {
   "cell_type": "code",
   "execution_count": 2,
   "id": "c0b92e2e-e9d5-459a-b72d-353895fc7de6",
   "metadata": {
    "tags": []
   },
   "outputs": [],
   "source": [
    "# nodes = pd.read_csv(\"db/2020/nodes.csv\") # Not needed\n",
    "edges = pd.read_csv(\"db/2020/edges.csv\")"
   ]
  },
  {
   "cell_type": "code",
   "execution_count": 3,
   "id": "f01b8ce2-1127-4c19-abe0-6831a68f8d61",
   "metadata": {
    "tags": []
   },
   "outputs": [
    {
     "data": {
      "text/html": [
       "<div>\n",
       "<style scoped>\n",
       "    .dataframe tbody tr th:only-of-type {\n",
       "        vertical-align: middle;\n",
       "    }\n",
       "\n",
       "    .dataframe tbody tr th {\n",
       "        vertical-align: top;\n",
       "    }\n",
       "\n",
       "    .dataframe thead th {\n",
       "        text-align: right;\n",
       "    }\n",
       "</style>\n",
       "<table border=\"1\" class=\"dataframe\">\n",
       "  <thead>\n",
       "    <tr style=\"text-align: right;\">\n",
       "      <th></th>\n",
       "      <th>row_id</th>\n",
       "      <th>person</th>\n",
       "      <th>referent</th>\n",
       "      <th>relation</th>\n",
       "      <th>rel</th>\n",
       "    </tr>\n",
       "  </thead>\n",
       "  <tbody>\n",
       "    <tr>\n",
       "      <th>0</th>\n",
       "      <td>0</td>\n",
       "      <td>Colley Cibber</td>\n",
       "      <td>Alexander Pope</td>\n",
       "      <td>Attacked</td>\n",
       "      <td>-2</td>\n",
       "    </tr>\n",
       "    <tr>\n",
       "      <th>1</th>\n",
       "      <td>1</td>\n",
       "      <td>Colley Cibber</td>\n",
       "      <td>Alexander Pope</td>\n",
       "      <td>Attacked</td>\n",
       "      <td>-2</td>\n",
       "    </tr>\n",
       "    <tr>\n",
       "      <th>2</th>\n",
       "      <td>2</td>\n",
       "      <td>Colley Cibber</td>\n",
       "      <td>John Dennis</td>\n",
       "      <td>Akin to</td>\n",
       "      <td>1</td>\n",
       "    </tr>\n",
       "    <tr>\n",
       "      <th>3</th>\n",
       "      <td>3</td>\n",
       "      <td>Colley Cibber</td>\n",
       "      <td>Lewis Theobald</td>\n",
       "      <td>Akin to</td>\n",
       "      <td>1</td>\n",
       "    </tr>\n",
       "    <tr>\n",
       "      <th>4</th>\n",
       "      <td>4</td>\n",
       "      <td>Colley Cibber</td>\n",
       "      <td>Stephen Duck</td>\n",
       "      <td>Akin to</td>\n",
       "      <td>1</td>\n",
       "    </tr>\n",
       "    <tr>\n",
       "      <th>...</th>\n",
       "      <td>...</td>\n",
       "      <td>...</td>\n",
       "      <td>...</td>\n",
       "      <td>...</td>\n",
       "      <td>...</td>\n",
       "    </tr>\n",
       "    <tr>\n",
       "      <th>341</th>\n",
       "      <td>341</td>\n",
       "      <td>John Henley</td>\n",
       "      <td>John Toland</td>\n",
       "      <td>Akin to</td>\n",
       "      <td>1</td>\n",
       "    </tr>\n",
       "    <tr>\n",
       "      <th>342</th>\n",
       "      <td>342</td>\n",
       "      <td>John Henley</td>\n",
       "      <td>Matthew Tindal</td>\n",
       "      <td>Akin to</td>\n",
       "      <td>1</td>\n",
       "    </tr>\n",
       "    <tr>\n",
       "      <th>343</th>\n",
       "      <td>343</td>\n",
       "      <td>John Henley</td>\n",
       "      <td>Thomas Woolston</td>\n",
       "      <td>Akin to</td>\n",
       "      <td>1</td>\n",
       "    </tr>\n",
       "    <tr>\n",
       "      <th>344</th>\n",
       "      <td>344</td>\n",
       "      <td>John Henley</td>\n",
       "      <td>Thomas Sherlock</td>\n",
       "      <td>Akin to</td>\n",
       "      <td>1</td>\n",
       "    </tr>\n",
       "    <tr>\n",
       "      <th>345</th>\n",
       "      <td>345</td>\n",
       "      <td>John Henley</td>\n",
       "      <td>Leonard Welsted</td>\n",
       "      <td>Akin to</td>\n",
       "      <td>1</td>\n",
       "    </tr>\n",
       "  </tbody>\n",
       "</table>\n",
       "<p>346 rows × 5 columns</p>\n",
       "</div>"
      ],
      "text/plain": [
       "     row_id         person         referent  relation  rel\n",
       "0         0  Colley Cibber   Alexander Pope  Attacked   -2\n",
       "1         1  Colley Cibber   Alexander Pope  Attacked   -2\n",
       "2         2  Colley Cibber      John Dennis   Akin to    1\n",
       "3         3  Colley Cibber   Lewis Theobald   Akin to    1\n",
       "4         4  Colley Cibber     Stephen Duck   Akin to    1\n",
       "..      ...            ...              ...       ...  ...\n",
       "341     341    John Henley      John Toland   Akin to    1\n",
       "342     342    John Henley   Matthew Tindal   Akin to    1\n",
       "343     343    John Henley  Thomas Woolston   Akin to    1\n",
       "344     344    John Henley  Thomas Sherlock   Akin to    1\n",
       "345     345    John Henley  Leonard Welsted   Akin to    1\n",
       "\n",
       "[346 rows x 5 columns]"
      ]
     },
     "execution_count": 3,
     "metadata": {},
     "output_type": "execute_result"
    }
   ],
   "source": [
    "edges"
   ]
  },
  {
   "cell_type": "markdown",
   "id": "dde2d5fa-d5c5-4412-87f9-c34aa5bd071b",
   "metadata": {},
   "source": [
    "# Extract Relations"
   ]
  },
  {
   "cell_type": "code",
   "execution_count": 9,
   "id": "22fb5a48-408b-438e-881a-67346f6c49e8",
   "metadata": {
    "tags": []
   },
   "outputs": [
    {
     "data": {
      "text/html": [
       "<div>\n",
       "<style scoped>\n",
       "    .dataframe tbody tr th:only-of-type {\n",
       "        vertical-align: middle;\n",
       "    }\n",
       "\n",
       "    .dataframe tbody tr th {\n",
       "        vertical-align: top;\n",
       "    }\n",
       "\n",
       "    .dataframe thead th {\n",
       "        text-align: right;\n",
       "    }\n",
       "</style>\n",
       "<table border=\"1\" class=\"dataframe\">\n",
       "  <thead>\n",
       "    <tr style=\"text-align: right;\">\n",
       "      <th></th>\n",
       "      <th>n</th>\n",
       "      <th>color</th>\n",
       "      <th>label</th>\n",
       "    </tr>\n",
       "    <tr>\n",
       "      <th>relation_id</th>\n",
       "      <th></th>\n",
       "      <th></th>\n",
       "      <th></th>\n",
       "    </tr>\n",
       "  </thead>\n",
       "  <tbody>\n",
       "    <tr>\n",
       "      <th>akin_to</th>\n",
       "      <td>189</td>\n",
       "      <td>green</td>\n",
       "      <td>akin to</td>\n",
       "    </tr>\n",
       "    <tr>\n",
       "      <th>attacked</th>\n",
       "      <td>113</td>\n",
       "      <td>red</td>\n",
       "      <td>attacked</td>\n",
       "    </tr>\n",
       "    <tr>\n",
       "      <th>dissimilar</th>\n",
       "      <td>25</td>\n",
       "      <td>orange</td>\n",
       "      <td>dissimilar</td>\n",
       "    </tr>\n",
       "    <tr>\n",
       "      <th>defended</th>\n",
       "      <td>19</td>\n",
       "      <td>blue</td>\n",
       "      <td>defended</td>\n",
       "    </tr>\n",
       "  </tbody>\n",
       "</table>\n",
       "</div>"
      ],
      "text/plain": [
       "               n   color       label\n",
       "relation_id                         \n",
       "akin_to      189   green     akin to\n",
       "attacked     113     red    attacked\n",
       "dissimilar    25  orange  dissimilar\n",
       "defended      19    blue    defended"
      ]
     },
     "execution_count": 9,
     "metadata": {},
     "output_type": "execute_result"
    }
   ],
   "source": [
    "R = edges.value_counts('relation_id').to_frame('n')\n",
    "R['color'] = ['green','red','orange','blue']\n",
    "R['label'] = R.index.str.replace('_', ' ')\n",
    "R"
   ]
  },
  {
   "cell_type": "markdown",
   "id": "05fc7385-4a74-45f7-bbb6-89c0f2adf27c",
   "metadata": {},
   "source": [
    "# Extract Nodes"
   ]
  },
  {
   "cell_type": "code",
   "execution_count": 10,
   "id": "aa091eff-793e-425a-9531-6f0e08dc5fee",
   "metadata": {
    "tags": []
   },
   "outputs": [],
   "source": [
    "# Extract and format Nodes\n",
    "N = pd.concat([edges.person, edges.referent]).value_counts().to_frame('n')\n",
    "N = N.reset_index().rename(columns={'index':'full_name'})\n",
    "N['index'] = N['full_name'].str.replace(' ', '_').str.upper().str.replace(r\"\\W\", \"\", regex=True)\n",
    "N = N.set_index('index')\n",
    "N['label'] = N['full_name'].str.replace(' ', '<br/>')\n",
    "N['dot'] = N.apply(lambda x: f\"{x.name} [label=< {x.label} >]\", axis=1)"
   ]
  },
  {
   "cell_type": "code",
   "execution_count": 11,
   "id": "84765de4-de41-4bf5-921c-8929f8bfc5b2",
   "metadata": {
    "tags": []
   },
   "outputs": [
    {
     "data": {
      "text/html": [
       "<div>\n",
       "<style scoped>\n",
       "    .dataframe tbody tr th:only-of-type {\n",
       "        vertical-align: middle;\n",
       "    }\n",
       "\n",
       "    .dataframe tbody tr th {\n",
       "        vertical-align: top;\n",
       "    }\n",
       "\n",
       "    .dataframe thead th {\n",
       "        text-align: right;\n",
       "    }\n",
       "</style>\n",
       "<table border=\"1\" class=\"dataframe\">\n",
       "  <thead>\n",
       "    <tr style=\"text-align: right;\">\n",
       "      <th></th>\n",
       "      <th>full_name</th>\n",
       "      <th>n</th>\n",
       "      <th>label</th>\n",
       "      <th>dot</th>\n",
       "    </tr>\n",
       "    <tr>\n",
       "      <th>index</th>\n",
       "      <th></th>\n",
       "      <th></th>\n",
       "      <th></th>\n",
       "      <th></th>\n",
       "    </tr>\n",
       "  </thead>\n",
       "  <tbody>\n",
       "    <tr>\n",
       "      <th>EDMUND_CURLL</th>\n",
       "      <td>Edmund Curll</td>\n",
       "      <td>131</td>\n",
       "      <td>Edmund&lt;br/&gt;Curll</td>\n",
       "      <td>EDMUND_CURLL [label=&lt; Edmund&lt;br/&gt;Curll &gt;]</td>\n",
       "    </tr>\n",
       "    <tr>\n",
       "      <th>JOHN_DENNIS</th>\n",
       "      <td>John Dennis</td>\n",
       "      <td>122</td>\n",
       "      <td>John&lt;br/&gt;Dennis</td>\n",
       "      <td>JOHN_DENNIS [label=&lt; John&lt;br/&gt;Dennis &gt;]</td>\n",
       "    </tr>\n",
       "    <tr>\n",
       "      <th>ALEXANDER_POPE</th>\n",
       "      <td>Alexander Pope</td>\n",
       "      <td>83</td>\n",
       "      <td>Alexander&lt;br/&gt;Pope</td>\n",
       "      <td>ALEXANDER_POPE [label=&lt; Alexander&lt;br/&gt;Pope &gt;]</td>\n",
       "    </tr>\n",
       "    <tr>\n",
       "      <th>COLLEY_CIBBER</th>\n",
       "      <td>Colley Cibber</td>\n",
       "      <td>78</td>\n",
       "      <td>Colley&lt;br/&gt;Cibber</td>\n",
       "      <td>COLLEY_CIBBER [label=&lt; Colley&lt;br/&gt;Cibber &gt;]</td>\n",
       "    </tr>\n",
       "    <tr>\n",
       "      <th>GILES_JACOB</th>\n",
       "      <td>Giles Jacob</td>\n",
       "      <td>24</td>\n",
       "      <td>Giles&lt;br/&gt;Jacob</td>\n",
       "      <td>GILES_JACOB [label=&lt; Giles&lt;br/&gt;Jacob &gt;]</td>\n",
       "    </tr>\n",
       "  </tbody>\n",
       "</table>\n",
       "</div>"
      ],
      "text/plain": [
       "                     full_name    n               label  \\\n",
       "index                                                     \n",
       "EDMUND_CURLL      Edmund Curll  131    Edmund<br/>Curll   \n",
       "JOHN_DENNIS        John Dennis  122     John<br/>Dennis   \n",
       "ALEXANDER_POPE  Alexander Pope   83  Alexander<br/>Pope   \n",
       "COLLEY_CIBBER    Colley Cibber   78   Colley<br/>Cibber   \n",
       "GILES_JACOB        Giles Jacob   24     Giles<br/>Jacob   \n",
       "\n",
       "                                                          dot  \n",
       "index                                                          \n",
       "EDMUND_CURLL        EDMUND_CURLL [label=< Edmund<br/>Curll >]  \n",
       "JOHN_DENNIS           JOHN_DENNIS [label=< John<br/>Dennis >]  \n",
       "ALEXANDER_POPE  ALEXANDER_POPE [label=< Alexander<br/>Pope >]  \n",
       "COLLEY_CIBBER     COLLEY_CIBBER [label=< Colley<br/>Cibber >]  \n",
       "GILES_JACOB           GILES_JACOB [label=< Giles<br/>Jacob >]  "
      ]
     },
     "execution_count": 11,
     "metadata": {},
     "output_type": "execute_result"
    }
   ],
   "source": [
    "N.head()"
   ]
  },
  {
   "cell_type": "markdown",
   "id": "ab48c6ea-e0f3-4e90-8fc3-3a8beab0a7c9",
   "metadata": {},
   "source": [
    "# Extract Edges"
   ]
  },
  {
   "cell_type": "code",
   "execution_count": 12,
   "id": "a77ffbe9-05e3-4333-bee7-7bdefe47ae9e",
   "metadata": {
    "tags": []
   },
   "outputs": [],
   "source": [
    "edges['person_id'] = edges.person.map(N.reset_index().set_index('full_name')['index'])\n",
    "edges['referent_id'] = edges.referent.map(N.reset_index().set_index('full_name')['index'])\n",
    "edges['relation_id'] = edges.relation.str.lower().str.replace(' ', '_', regex=True)"
   ]
  },
  {
   "cell_type": "code",
   "execution_count": 13,
   "id": "8a5a6307-1b02-4fa7-8c47-4bbc99334244",
   "metadata": {
    "tags": []
   },
   "outputs": [
    {
     "data": {
      "text/html": [
       "<div>\n",
       "<style scoped>\n",
       "    .dataframe tbody tr th:only-of-type {\n",
       "        vertical-align: middle;\n",
       "    }\n",
       "\n",
       "    .dataframe tbody tr th {\n",
       "        vertical-align: top;\n",
       "    }\n",
       "\n",
       "    .dataframe thead th {\n",
       "        text-align: right;\n",
       "    }\n",
       "</style>\n",
       "<table border=\"1\" class=\"dataframe\">\n",
       "  <thead>\n",
       "    <tr style=\"text-align: right;\">\n",
       "      <th></th>\n",
       "      <th></th>\n",
       "      <th></th>\n",
       "      <th>n</th>\n",
       "    </tr>\n",
       "    <tr>\n",
       "      <th>person_id</th>\n",
       "      <th>referent_id</th>\n",
       "      <th>relation_id</th>\n",
       "      <th></th>\n",
       "    </tr>\n",
       "  </thead>\n",
       "  <tbody>\n",
       "    <tr>\n",
       "      <th rowspan=\"5\" valign=\"top\">COLLEY_CIBBER</th>\n",
       "      <th rowspan=\"2\" valign=\"top\">ALEXANDER_POPE</th>\n",
       "      <th>akin_to</th>\n",
       "      <td>1</td>\n",
       "    </tr>\n",
       "    <tr>\n",
       "      <th>attacked</th>\n",
       "      <td>9</td>\n",
       "    </tr>\n",
       "    <tr>\n",
       "      <th>BARTON_BOOTH</th>\n",
       "      <th>akin_to</th>\n",
       "      <td>1</td>\n",
       "    </tr>\n",
       "    <tr>\n",
       "      <th>CAIUS_GABRIEL_CIBBER</th>\n",
       "      <th>akin_to</th>\n",
       "      <td>2</td>\n",
       "    </tr>\n",
       "    <tr>\n",
       "      <th>CAMILLO_QUERNO</th>\n",
       "      <th>akin_to</th>\n",
       "      <td>2</td>\n",
       "    </tr>\n",
       "  </tbody>\n",
       "</table>\n",
       "</div>"
      ],
      "text/plain": [
       "                                                n\n",
       "person_id     referent_id          relation_id   \n",
       "COLLEY_CIBBER ALEXANDER_POPE       akin_to      1\n",
       "                                   attacked     9\n",
       "              BARTON_BOOTH         akin_to      1\n",
       "              CAIUS_GABRIEL_CIBBER akin_to      2\n",
       "              CAMILLO_QUERNO       akin_to      2"
      ]
     },
     "execution_count": 13,
     "metadata": {},
     "output_type": "execute_result"
    }
   ],
   "source": [
    "# Extract Edges\n",
    "E = edges.groupby(['person_id','referent_id','relation_id']).relation_id.count().to_frame('n')\n",
    "E.head()"
   ]
  },
  {
   "cell_type": "code",
   "execution_count": 14,
   "id": "cf236a05-76ea-496e-9dac-2cf961d1793a",
   "metadata": {
    "tags": []
   },
   "outputs": [],
   "source": [
    "E['dot'] = E.apply(lambda x: f\"{x.name[0]} -> {x.name[1]} [color={R.loc[x.name[2], 'color']} weight={x.n**2}]\", axis=1)"
   ]
  },
  {
   "cell_type": "code",
   "execution_count": 15,
   "id": "94fcbb75-a96e-4c39-85d3-99ba3fee3e9a",
   "metadata": {
    "tags": []
   },
   "outputs": [
    {
     "data": {
      "text/html": [
       "<div>\n",
       "<style scoped>\n",
       "    .dataframe tbody tr th:only-of-type {\n",
       "        vertical-align: middle;\n",
       "    }\n",
       "\n",
       "    .dataframe tbody tr th {\n",
       "        vertical-align: top;\n",
       "    }\n",
       "\n",
       "    .dataframe thead th {\n",
       "        text-align: right;\n",
       "    }\n",
       "</style>\n",
       "<table border=\"1\" class=\"dataframe\">\n",
       "  <thead>\n",
       "    <tr style=\"text-align: right;\">\n",
       "      <th></th>\n",
       "      <th></th>\n",
       "      <th></th>\n",
       "      <th>n</th>\n",
       "      <th>dot</th>\n",
       "    </tr>\n",
       "    <tr>\n",
       "      <th>person_id</th>\n",
       "      <th>referent_id</th>\n",
       "      <th>relation_id</th>\n",
       "      <th></th>\n",
       "      <th></th>\n",
       "    </tr>\n",
       "  </thead>\n",
       "  <tbody>\n",
       "    <tr>\n",
       "      <th rowspan=\"5\" valign=\"top\">COLLEY_CIBBER</th>\n",
       "      <th rowspan=\"2\" valign=\"top\">ALEXANDER_POPE</th>\n",
       "      <th>akin_to</th>\n",
       "      <td>1</td>\n",
       "      <td>COLLEY_CIBBER -&gt; ALEXANDER_POPE [color=green w...</td>\n",
       "    </tr>\n",
       "    <tr>\n",
       "      <th>attacked</th>\n",
       "      <td>9</td>\n",
       "      <td>COLLEY_CIBBER -&gt; ALEXANDER_POPE [color=red wei...</td>\n",
       "    </tr>\n",
       "    <tr>\n",
       "      <th>BARTON_BOOTH</th>\n",
       "      <th>akin_to</th>\n",
       "      <td>1</td>\n",
       "      <td>COLLEY_CIBBER -&gt; BARTON_BOOTH [color=green wei...</td>\n",
       "    </tr>\n",
       "    <tr>\n",
       "      <th>CAIUS_GABRIEL_CIBBER</th>\n",
       "      <th>akin_to</th>\n",
       "      <td>2</td>\n",
       "      <td>COLLEY_CIBBER -&gt; CAIUS_GABRIEL_CIBBER [color=g...</td>\n",
       "    </tr>\n",
       "    <tr>\n",
       "      <th>CAMILLO_QUERNO</th>\n",
       "      <th>akin_to</th>\n",
       "      <td>2</td>\n",
       "      <td>COLLEY_CIBBER -&gt; CAMILLO_QUERNO [color=green w...</td>\n",
       "    </tr>\n",
       "    <tr>\n",
       "      <th>...</th>\n",
       "      <th>...</th>\n",
       "      <th>...</th>\n",
       "      <td>...</td>\n",
       "      <td>...</td>\n",
       "    </tr>\n",
       "    <tr>\n",
       "      <th rowspan=\"5\" valign=\"top\">JOHN_HENLEY</th>\n",
       "      <th>MATTHEW_TINDAL</th>\n",
       "      <th>akin_to</th>\n",
       "      <td>1</td>\n",
       "      <td>JOHN_HENLEY -&gt; MATTHEW_TINDAL [color=green wei...</td>\n",
       "    </tr>\n",
       "    <tr>\n",
       "      <th>RICHARD_BLACKMORE</th>\n",
       "      <th>akin_to</th>\n",
       "      <td>1</td>\n",
       "      <td>JOHN_HENLEY -&gt; RICHARD_BLACKMORE [color=green ...</td>\n",
       "    </tr>\n",
       "    <tr>\n",
       "      <th>RICHARD_FLECKNOE</th>\n",
       "      <th>akin_to</th>\n",
       "      <td>1</td>\n",
       "      <td>JOHN_HENLEY -&gt; RICHARD_FLECKNOE [color=green w...</td>\n",
       "    </tr>\n",
       "    <tr>\n",
       "      <th>THOMAS_SHERLOCK</th>\n",
       "      <th>akin_to</th>\n",
       "      <td>1</td>\n",
       "      <td>JOHN_HENLEY -&gt; THOMAS_SHERLOCK [color=green we...</td>\n",
       "    </tr>\n",
       "    <tr>\n",
       "      <th>THOMAS_WOOLSTON</th>\n",
       "      <th>akin_to</th>\n",
       "      <td>1</td>\n",
       "      <td>JOHN_HENLEY -&gt; THOMAS_WOOLSTON [color=green we...</td>\n",
       "    </tr>\n",
       "  </tbody>\n",
       "</table>\n",
       "<p>172 rows × 2 columns</p>\n",
       "</div>"
      ],
      "text/plain": [
       "                                                n  \\\n",
       "person_id     referent_id          relation_id      \n",
       "COLLEY_CIBBER ALEXANDER_POPE       akin_to      1   \n",
       "                                   attacked     9   \n",
       "              BARTON_BOOTH         akin_to      1   \n",
       "              CAIUS_GABRIEL_CIBBER akin_to      2   \n",
       "              CAMILLO_QUERNO       akin_to      2   \n",
       "...                                            ..   \n",
       "JOHN_HENLEY   MATTHEW_TINDAL       akin_to      1   \n",
       "              RICHARD_BLACKMORE    akin_to      1   \n",
       "              RICHARD_FLECKNOE     akin_to      1   \n",
       "              THOMAS_SHERLOCK      akin_to      1   \n",
       "              THOMAS_WOOLSTON      akin_to      1   \n",
       "\n",
       "                                                                                              dot  \n",
       "person_id     referent_id          relation_id                                                     \n",
       "COLLEY_CIBBER ALEXANDER_POPE       akin_to      COLLEY_CIBBER -> ALEXANDER_POPE [color=green w...  \n",
       "                                   attacked     COLLEY_CIBBER -> ALEXANDER_POPE [color=red wei...  \n",
       "              BARTON_BOOTH         akin_to      COLLEY_CIBBER -> BARTON_BOOTH [color=green wei...  \n",
       "              CAIUS_GABRIEL_CIBBER akin_to      COLLEY_CIBBER -> CAIUS_GABRIEL_CIBBER [color=g...  \n",
       "              CAMILLO_QUERNO       akin_to      COLLEY_CIBBER -> CAMILLO_QUERNO [color=green w...  \n",
       "...                                                                                           ...  \n",
       "JOHN_HENLEY   MATTHEW_TINDAL       akin_to      JOHN_HENLEY -> MATTHEW_TINDAL [color=green wei...  \n",
       "              RICHARD_BLACKMORE    akin_to      JOHN_HENLEY -> RICHARD_BLACKMORE [color=green ...  \n",
       "              RICHARD_FLECKNOE     akin_to      JOHN_HENLEY -> RICHARD_FLECKNOE [color=green w...  \n",
       "              THOMAS_SHERLOCK      akin_to      JOHN_HENLEY -> THOMAS_SHERLOCK [color=green we...  \n",
       "              THOMAS_WOOLSTON      akin_to      JOHN_HENLEY -> THOMAS_WOOLSTON [color=green we...  \n",
       "\n",
       "[172 rows x 2 columns]"
      ]
     },
     "execution_count": 15,
     "metadata": {},
     "output_type": "execute_result"
    }
   ],
   "source": [
    "E"
   ]
  },
  {
   "cell_type": "markdown",
   "id": "f4e8b4b4-369a-49d0-98c8-aa5723b9e574",
   "metadata": {},
   "source": [
    "# Draw Graphs"
   ]
  },
  {
   "cell_type": "code",
   "execution_count": 45,
   "id": "a16a4909-0dea-4b00-be6c-bf48ff2e4018",
   "metadata": {
    "tags": []
   },
   "outputs": [],
   "source": [
    "def create_graph(persons:[]=[], mode='fdp'):\n",
    "    global E, N    \n",
    "    \n",
    "    # Create subsets of N and E\n",
    "    E1 = E.loc[persons] if len(persons) > 0 else E\n",
    "    node_idx = list(set(persons + E1.reset_index()['referent_id'].to_list()))\n",
    "    N1 = N.loc[node_idx].sort_index()\n",
    "    \n",
    "    # Convert to Graphviz\n",
    "    graph_text = \"digraph G {\\n\"\n",
    "    graph_text += \"rankdir=LR\\n\"\n",
    "    graph_text += \"node [shape=plaintext]\\n\"\n",
    "    graph_text += '\\n'.join(N1['dot'].values)\n",
    "    graph_text += \"\\n\"\n",
    "    graph_text += '\\n'.join(E1['dot'].values)\n",
    "    graph_text += \"\\n}\"\n",
    "    \n",
    "    # print(graph_text)\n",
    "    \n",
    "    # Print to file\n",
    "    file_name = \"images/\" + '_'.join(persons) + \".dot\" if len(persons) else \"images/all.dot\"\n",
    "    print(file_name)\n",
    "    with open(file_name, \"w\") as outfile:\n",
    "        outfile.write(graph_text)\n",
    "    \n",
    "    for format in \"jpeg svg png\".split():\n",
    "        os.system(f\"circo -K{mode} -Tjpeg {file_name} > {file_name}_{mode}.{format}\")"
   ]
  },
  {
   "cell_type": "code",
   "execution_count": 46,
   "id": "c019b903-b343-42ec-814e-13ec6781d023",
   "metadata": {
    "tags": []
   },
   "outputs": [],
   "source": [
    "persons = E.index.levels[0].to_list()"
   ]
  },
  {
   "cell_type": "code",
   "execution_count": 47,
   "id": "52303814-a13e-4eae-98e4-d1f82aa77e2f",
   "metadata": {
    "tags": []
   },
   "outputs": [
    {
     "name": "stdout",
     "output_type": "stream",
     "text": [
      "images/COLLEY_CIBBER_EDMUND_CURLL_ELIZA_HAYWOOD_GILES_JACOB_JOHN_DENNIS_JOHN_HENLEY.dot\n"
     ]
    }
   ],
   "source": [
    "create_graph(persons)"
   ]
  },
  {
   "cell_type": "code",
   "execution_count": 44,
   "id": "7acd7cac-d1ed-4f8c-bf01-2cea43004c91",
   "metadata": {
    "tags": []
   },
   "outputs": [
    {
     "name": "stdout",
     "output_type": "stream",
     "text": [
      "images/COLLEY_CIBBER.dot\n",
      "images/EDMUND_CURLL.dot\n",
      "images/ELIZA_HAYWOOD.dot\n",
      "images/GILES_JACOB.dot\n",
      "images/JOHN_DENNIS.dot\n",
      "images/JOHN_HENLEY.dot\n"
     ]
    }
   ],
   "source": [
    "for person in persons:\n",
    "    create_graph([person])"
   ]
  },
  {
   "cell_type": "code",
   "execution_count": null,
   "id": "ea9fe433-5e1f-4c13-8b79-468c68520911",
   "metadata": {},
   "outputs": [],
   "source": []
  }
 ],
 "metadata": {
  "kernelspec": {
   "display_name": "eta2",
   "language": "python",
   "name": "eta2"
  },
  "language_info": {
   "codemirror_mode": {
    "name": "ipython",
    "version": 3
   },
   "file_extension": ".py",
   "mimetype": "text/x-python",
   "name": "python",
   "nbconvert_exporter": "python",
   "pygments_lexer": "ipython3",
   "version": "3.11.5"
  },
  "widgets": {
   "application/vnd.jupyter.widget-state+json": {
    "state": {},
    "version_major": 2,
    "version_minor": 0
   }
  }
 },
 "nbformat": 4,
 "nbformat_minor": 5
}
