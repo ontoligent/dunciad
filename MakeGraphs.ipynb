{
 "cells": [
  {
   "cell_type": "markdown",
   "id": "be979946-e378-4a6d-8cd4-7b2aff7e94df",
   "metadata": {
    "tags": []
   },
   "source": [
    "# Import Libraries"
   ]
  },
  {
   "cell_type": "code",
   "execution_count": 1,
   "id": "ba3aa990-945e-43b1-bed0-952f31fc8644",
   "metadata": {
    "tags": []
   },
   "outputs": [],
   "source": [
    "import pandas as pd\n",
    "import numpy as np\n",
    "import os"
   ]
  },
  {
   "cell_type": "markdown",
   "id": "5d5a70cb-eeec-4268-9f9a-6729be93307b",
   "metadata": {},
   "source": [
    "# Config"
   ]
  },
  {
   "cell_type": "code",
   "execution_count": 2,
   "id": "811ef325-59a1-4139-af56-dcc7d25019be",
   "metadata": {
    "tags": []
   },
   "outputs": [],
   "source": [
    "data_dir = \"data\"\n",
    "image_dir = \"images\""
   ]
  },
  {
   "cell_type": "markdown",
   "id": "7a093a9d-ffcd-471f-a6a4-bde1adfde7ea",
   "metadata": {},
   "source": [
    "# Get Raw Data"
   ]
  },
  {
   "cell_type": "code",
   "execution_count": 3,
   "id": "7833bb2a-8c2d-4aeb-9875-d71321514d40",
   "metadata": {
    "tags": []
   },
   "outputs": [],
   "source": [
    "# 2020 data\n",
    "edges = pd.read_csv(f\"{data_dir}/2020/edges.csv\")[['person','referent','relation']]"
   ]
  },
  {
   "cell_type": "code",
   "execution_count": 4,
   "id": "1cc962bb-c7c9-498f-a56c-f9d81138b2a6",
   "metadata": {
    "tags": []
   },
   "outputs": [
    {
     "data": {
      "text/html": [
       "<div>\n",
       "<style scoped>\n",
       "    .dataframe tbody tr th:only-of-type {\n",
       "        vertical-align: middle;\n",
       "    }\n",
       "\n",
       "    .dataframe tbody tr th {\n",
       "        vertical-align: top;\n",
       "    }\n",
       "\n",
       "    .dataframe thead th {\n",
       "        text-align: right;\n",
       "    }\n",
       "</style>\n",
       "<table border=\"1\" class=\"dataframe\">\n",
       "  <thead>\n",
       "    <tr style=\"text-align: right;\">\n",
       "      <th></th>\n",
       "      <th>person</th>\n",
       "      <th>referent</th>\n",
       "      <th>relation</th>\n",
       "    </tr>\n",
       "  </thead>\n",
       "  <tbody>\n",
       "    <tr>\n",
       "      <th>0</th>\n",
       "      <td>Colley Cibber</td>\n",
       "      <td>Alexander Pope</td>\n",
       "      <td>Attacked</td>\n",
       "    </tr>\n",
       "    <tr>\n",
       "      <th>1</th>\n",
       "      <td>Colley Cibber</td>\n",
       "      <td>Alexander Pope</td>\n",
       "      <td>Attacked</td>\n",
       "    </tr>\n",
       "    <tr>\n",
       "      <th>2</th>\n",
       "      <td>Colley Cibber</td>\n",
       "      <td>John Dennis</td>\n",
       "      <td>Akin to</td>\n",
       "    </tr>\n",
       "    <tr>\n",
       "      <th>3</th>\n",
       "      <td>Colley Cibber</td>\n",
       "      <td>Lewis Theobald</td>\n",
       "      <td>Akin to</td>\n",
       "    </tr>\n",
       "    <tr>\n",
       "      <th>4</th>\n",
       "      <td>Colley Cibber</td>\n",
       "      <td>Stephen Duck</td>\n",
       "      <td>Akin to</td>\n",
       "    </tr>\n",
       "    <tr>\n",
       "      <th>...</th>\n",
       "      <td>...</td>\n",
       "      <td>...</td>\n",
       "      <td>...</td>\n",
       "    </tr>\n",
       "    <tr>\n",
       "      <th>341</th>\n",
       "      <td>John Henley</td>\n",
       "      <td>John Toland</td>\n",
       "      <td>Akin to</td>\n",
       "    </tr>\n",
       "    <tr>\n",
       "      <th>342</th>\n",
       "      <td>John Henley</td>\n",
       "      <td>Matthew Tindal</td>\n",
       "      <td>Akin to</td>\n",
       "    </tr>\n",
       "    <tr>\n",
       "      <th>343</th>\n",
       "      <td>John Henley</td>\n",
       "      <td>Thomas Woolston</td>\n",
       "      <td>Akin to</td>\n",
       "    </tr>\n",
       "    <tr>\n",
       "      <th>344</th>\n",
       "      <td>John Henley</td>\n",
       "      <td>Thomas Sherlock</td>\n",
       "      <td>Akin to</td>\n",
       "    </tr>\n",
       "    <tr>\n",
       "      <th>345</th>\n",
       "      <td>John Henley</td>\n",
       "      <td>Leonard Welsted</td>\n",
       "      <td>Akin to</td>\n",
       "    </tr>\n",
       "  </tbody>\n",
       "</table>\n",
       "<p>346 rows × 3 columns</p>\n",
       "</div>"
      ],
      "text/plain": [
       "            person         referent  relation\n",
       "0    Colley Cibber   Alexander Pope  Attacked\n",
       "1    Colley Cibber   Alexander Pope  Attacked\n",
       "2    Colley Cibber      John Dennis   Akin to\n",
       "3    Colley Cibber   Lewis Theobald   Akin to\n",
       "4    Colley Cibber     Stephen Duck   Akin to\n",
       "..             ...              ...       ...\n",
       "341    John Henley      John Toland   Akin to\n",
       "342    John Henley   Matthew Tindal   Akin to\n",
       "343    John Henley  Thomas Woolston   Akin to\n",
       "344    John Henley  Thomas Sherlock   Akin to\n",
       "345    John Henley  Leonard Welsted   Akin to\n",
       "\n",
       "[346 rows x 3 columns]"
      ]
     },
     "execution_count": 4,
     "metadata": {},
     "output_type": "execute_result"
    }
   ],
   "source": [
    "edges"
   ]
  },
  {
   "cell_type": "code",
   "execution_count": 5,
   "id": "02c4d972-6efb-45b2-a6ea-890cf0f82d49",
   "metadata": {
    "tags": []
   },
   "outputs": [],
   "source": [
    "# New data -- Seems to be missing Eliza Haywood (Heywood?)\n",
    "# excel_file = \"data/word_docs/ALL.xls\"\n",
    "# sheets = []\n",
    "# keep_cols = [\"character\", \"person_referred_to\", \"relation\"]\n",
    "# for i in range(5):\n",
    "#     sheet = pd.read_excel(excel_file, sheet_name=i) \n",
    "#     sheet.columns = [col.strip().lower().replace(' ', '_') for col in sheet.columns]\n",
    "#     sheets.append(sheet[keep_cols])\n",
    "# edges = pd.concat(sheets)"
   ]
  },
  {
   "cell_type": "markdown",
   "id": "66db2aa0-cc5a-45ff-ad68-113a7e184e89",
   "metadata": {},
   "source": [
    "## Clean up columns"
   ]
  },
  {
   "cell_type": "code",
   "execution_count": 6,
   "id": "1ffec4b1-cccb-418d-ba8a-c21ed48f0cd0",
   "metadata": {
    "tags": []
   },
   "outputs": [],
   "source": [
    "# For new data only\n",
    "# edges = edges.rename(columns={'character':'person', 'person_referred_to':'referent'})\n",
    "# edges = edges.dropna(subset=['person','referent']).copy()"
   ]
  },
  {
   "cell_type": "code",
   "execution_count": 7,
   "id": "ee0ccb79-6b71-4fe8-a38b-7ff2187e5768",
   "metadata": {
    "tags": []
   },
   "outputs": [
    {
     "data": {
      "text/html": [
       "<div>\n",
       "<style scoped>\n",
       "    .dataframe tbody tr th:only-of-type {\n",
       "        vertical-align: middle;\n",
       "    }\n",
       "\n",
       "    .dataframe tbody tr th {\n",
       "        vertical-align: top;\n",
       "    }\n",
       "\n",
       "    .dataframe thead th {\n",
       "        text-align: right;\n",
       "    }\n",
       "</style>\n",
       "<table border=\"1\" class=\"dataframe\">\n",
       "  <thead>\n",
       "    <tr style=\"text-align: right;\">\n",
       "      <th></th>\n",
       "      <th>person</th>\n",
       "      <th>referent</th>\n",
       "      <th>relation</th>\n",
       "    </tr>\n",
       "  </thead>\n",
       "  <tbody>\n",
       "    <tr>\n",
       "      <th>0</th>\n",
       "      <td>Colley Cibber</td>\n",
       "      <td>Alexander Pope</td>\n",
       "      <td>Attacked</td>\n",
       "    </tr>\n",
       "    <tr>\n",
       "      <th>1</th>\n",
       "      <td>Colley Cibber</td>\n",
       "      <td>Alexander Pope</td>\n",
       "      <td>Attacked</td>\n",
       "    </tr>\n",
       "    <tr>\n",
       "      <th>2</th>\n",
       "      <td>Colley Cibber</td>\n",
       "      <td>John Dennis</td>\n",
       "      <td>Akin to</td>\n",
       "    </tr>\n",
       "    <tr>\n",
       "      <th>3</th>\n",
       "      <td>Colley Cibber</td>\n",
       "      <td>Lewis Theobald</td>\n",
       "      <td>Akin to</td>\n",
       "    </tr>\n",
       "    <tr>\n",
       "      <th>4</th>\n",
       "      <td>Colley Cibber</td>\n",
       "      <td>Stephen Duck</td>\n",
       "      <td>Akin to</td>\n",
       "    </tr>\n",
       "    <tr>\n",
       "      <th>...</th>\n",
       "      <td>...</td>\n",
       "      <td>...</td>\n",
       "      <td>...</td>\n",
       "    </tr>\n",
       "    <tr>\n",
       "      <th>341</th>\n",
       "      <td>John Henley</td>\n",
       "      <td>John Toland</td>\n",
       "      <td>Akin to</td>\n",
       "    </tr>\n",
       "    <tr>\n",
       "      <th>342</th>\n",
       "      <td>John Henley</td>\n",
       "      <td>Matthew Tindal</td>\n",
       "      <td>Akin to</td>\n",
       "    </tr>\n",
       "    <tr>\n",
       "      <th>343</th>\n",
       "      <td>John Henley</td>\n",
       "      <td>Thomas Woolston</td>\n",
       "      <td>Akin to</td>\n",
       "    </tr>\n",
       "    <tr>\n",
       "      <th>344</th>\n",
       "      <td>John Henley</td>\n",
       "      <td>Thomas Sherlock</td>\n",
       "      <td>Akin to</td>\n",
       "    </tr>\n",
       "    <tr>\n",
       "      <th>345</th>\n",
       "      <td>John Henley</td>\n",
       "      <td>Leonard Welsted</td>\n",
       "      <td>Akin to</td>\n",
       "    </tr>\n",
       "  </tbody>\n",
       "</table>\n",
       "<p>346 rows × 3 columns</p>\n",
       "</div>"
      ],
      "text/plain": [
       "            person         referent  relation\n",
       "0    Colley Cibber   Alexander Pope  Attacked\n",
       "1    Colley Cibber   Alexander Pope  Attacked\n",
       "2    Colley Cibber      John Dennis   Akin to\n",
       "3    Colley Cibber   Lewis Theobald   Akin to\n",
       "4    Colley Cibber     Stephen Duck   Akin to\n",
       "..             ...              ...       ...\n",
       "341    John Henley      John Toland   Akin to\n",
       "342    John Henley   Matthew Tindal   Akin to\n",
       "343    John Henley  Thomas Woolston   Akin to\n",
       "344    John Henley  Thomas Sherlock   Akin to\n",
       "345    John Henley  Leonard Welsted   Akin to\n",
       "\n",
       "[346 rows x 3 columns]"
      ]
     },
     "execution_count": 7,
     "metadata": {},
     "output_type": "execute_result"
    }
   ],
   "source": [
    "edges"
   ]
  },
  {
   "cell_type": "markdown",
   "id": "004413bb-6346-49b5-afcb-5c7759ae0963",
   "metadata": {},
   "source": [
    "## Clean up values"
   ]
  },
  {
   "cell_type": "code",
   "execution_count": 8,
   "id": "72b6d710-625c-4dc0-b013-d3d3609303be",
   "metadata": {
    "tags": []
   },
   "outputs": [],
   "source": [
    "# For new data only\n",
    "# for col in edges.columns:\n",
    "#     edges[col] = edges[col].str.strip()"
   ]
  },
  {
   "cell_type": "code",
   "execution_count": 9,
   "id": "1db706fd-e1fe-4626-83d3-68a6919c3c3a",
   "metadata": {
    "tags": []
   },
   "outputs": [],
   "source": [
    "edges['relation_id'] = edges['relation'].str.lower().str.replace(' ', '_')"
   ]
  },
  {
   "cell_type": "code",
   "execution_count": 10,
   "id": "043ad57d-07f7-4ead-82dc-9811e5fe1eb3",
   "metadata": {
    "tags": []
   },
   "outputs": [
    {
     "data": {
      "text/html": [
       "<div>\n",
       "<style scoped>\n",
       "    .dataframe tbody tr th:only-of-type {\n",
       "        vertical-align: middle;\n",
       "    }\n",
       "\n",
       "    .dataframe tbody tr th {\n",
       "        vertical-align: top;\n",
       "    }\n",
       "\n",
       "    .dataframe thead th {\n",
       "        text-align: right;\n",
       "    }\n",
       "</style>\n",
       "<table border=\"1\" class=\"dataframe\">\n",
       "  <thead>\n",
       "    <tr style=\"text-align: right;\">\n",
       "      <th></th>\n",
       "      <th>person</th>\n",
       "      <th>referent</th>\n",
       "      <th>relation</th>\n",
       "      <th>relation_id</th>\n",
       "    </tr>\n",
       "  </thead>\n",
       "  <tbody>\n",
       "    <tr>\n",
       "      <th>0</th>\n",
       "      <td>Colley Cibber</td>\n",
       "      <td>Alexander Pope</td>\n",
       "      <td>Attacked</td>\n",
       "      <td>attacked</td>\n",
       "    </tr>\n",
       "    <tr>\n",
       "      <th>1</th>\n",
       "      <td>Colley Cibber</td>\n",
       "      <td>Alexander Pope</td>\n",
       "      <td>Attacked</td>\n",
       "      <td>attacked</td>\n",
       "    </tr>\n",
       "    <tr>\n",
       "      <th>2</th>\n",
       "      <td>Colley Cibber</td>\n",
       "      <td>John Dennis</td>\n",
       "      <td>Akin to</td>\n",
       "      <td>akin_to</td>\n",
       "    </tr>\n",
       "    <tr>\n",
       "      <th>3</th>\n",
       "      <td>Colley Cibber</td>\n",
       "      <td>Lewis Theobald</td>\n",
       "      <td>Akin to</td>\n",
       "      <td>akin_to</td>\n",
       "    </tr>\n",
       "    <tr>\n",
       "      <th>4</th>\n",
       "      <td>Colley Cibber</td>\n",
       "      <td>Stephen Duck</td>\n",
       "      <td>Akin to</td>\n",
       "      <td>akin_to</td>\n",
       "    </tr>\n",
       "    <tr>\n",
       "      <th>...</th>\n",
       "      <td>...</td>\n",
       "      <td>...</td>\n",
       "      <td>...</td>\n",
       "      <td>...</td>\n",
       "    </tr>\n",
       "    <tr>\n",
       "      <th>341</th>\n",
       "      <td>John Henley</td>\n",
       "      <td>John Toland</td>\n",
       "      <td>Akin to</td>\n",
       "      <td>akin_to</td>\n",
       "    </tr>\n",
       "    <tr>\n",
       "      <th>342</th>\n",
       "      <td>John Henley</td>\n",
       "      <td>Matthew Tindal</td>\n",
       "      <td>Akin to</td>\n",
       "      <td>akin_to</td>\n",
       "    </tr>\n",
       "    <tr>\n",
       "      <th>343</th>\n",
       "      <td>John Henley</td>\n",
       "      <td>Thomas Woolston</td>\n",
       "      <td>Akin to</td>\n",
       "      <td>akin_to</td>\n",
       "    </tr>\n",
       "    <tr>\n",
       "      <th>344</th>\n",
       "      <td>John Henley</td>\n",
       "      <td>Thomas Sherlock</td>\n",
       "      <td>Akin to</td>\n",
       "      <td>akin_to</td>\n",
       "    </tr>\n",
       "    <tr>\n",
       "      <th>345</th>\n",
       "      <td>John Henley</td>\n",
       "      <td>Leonard Welsted</td>\n",
       "      <td>Akin to</td>\n",
       "      <td>akin_to</td>\n",
       "    </tr>\n",
       "  </tbody>\n",
       "</table>\n",
       "<p>346 rows × 4 columns</p>\n",
       "</div>"
      ],
      "text/plain": [
       "            person         referent  relation relation_id\n",
       "0    Colley Cibber   Alexander Pope  Attacked    attacked\n",
       "1    Colley Cibber   Alexander Pope  Attacked    attacked\n",
       "2    Colley Cibber      John Dennis   Akin to     akin_to\n",
       "3    Colley Cibber   Lewis Theobald   Akin to     akin_to\n",
       "4    Colley Cibber     Stephen Duck   Akin to     akin_to\n",
       "..             ...              ...       ...         ...\n",
       "341    John Henley      John Toland   Akin to     akin_to\n",
       "342    John Henley   Matthew Tindal   Akin to     akin_to\n",
       "343    John Henley  Thomas Woolston   Akin to     akin_to\n",
       "344    John Henley  Thomas Sherlock   Akin to     akin_to\n",
       "345    John Henley  Leonard Welsted   Akin to     akin_to\n",
       "\n",
       "[346 rows x 4 columns]"
      ]
     },
     "execution_count": 10,
     "metadata": {},
     "output_type": "execute_result"
    }
   ],
   "source": [
    "edges"
   ]
  },
  {
   "cell_type": "markdown",
   "id": "2c70cb20-365b-472d-855e-20d39193a347",
   "metadata": {},
   "source": [
    "## Normalize names"
   ]
  },
  {
   "cell_type": "code",
   "execution_count": 11,
   "id": "b6ac8e79-3249-45b1-bbeb-e02119d036ac",
   "metadata": {
    "tags": []
   },
   "outputs": [],
   "source": [
    "# For new data only\n",
    "# edges.loc[edges.person.str.contains(','), 'person'] = edges\\\n",
    "#     .loc[edges.person.str.contains(',')]\\\n",
    "#     .person.apply(lambda x: f\"{x.split(',')[1].strip()} {x.split(',')[0]}\")\n",
    "# edges.loc[edges.person == 'Edmund Curl', 'person'] = 'Edmund Curll' \n",
    "# edges.loc[edges.person == 'Curll Edmund', 'person'] = 'Edmund Curll' "
   ]
  },
  {
   "cell_type": "code",
   "execution_count": 12,
   "id": "32c7f36f-7437-4c41-881f-1fcf606c93b5",
   "metadata": {
    "tags": []
   },
   "outputs": [
    {
     "data": {
      "text/plain": [
       "person\n",
       "Edmund Curll     124\n",
       "John Dennis      107\n",
       "Colley Cibber     74\n",
       "Giles Jacob       20\n",
       "John Henley       12\n",
       "Eliza Haywood      9\n",
       "Name: count, dtype: int64"
      ]
     },
     "execution_count": 12,
     "metadata": {},
     "output_type": "execute_result"
    }
   ],
   "source": [
    "edges.person.value_counts()"
   ]
  },
  {
   "cell_type": "code",
   "execution_count": 13,
   "id": "d6e4fd6a-11d8-4c31-b1c0-596774482c52",
   "metadata": {
    "tags": []
   },
   "outputs": [
    {
     "data": {
      "text/html": [
       "<div>\n",
       "<style scoped>\n",
       "    .dataframe tbody tr th:only-of-type {\n",
       "        vertical-align: middle;\n",
       "    }\n",
       "\n",
       "    .dataframe tbody tr th {\n",
       "        vertical-align: top;\n",
       "    }\n",
       "\n",
       "    .dataframe thead th {\n",
       "        text-align: right;\n",
       "    }\n",
       "</style>\n",
       "<table border=\"1\" class=\"dataframe\">\n",
       "  <thead>\n",
       "    <tr style=\"text-align: right;\">\n",
       "      <th></th>\n",
       "      <th>person</th>\n",
       "      <th>referent</th>\n",
       "      <th>relation</th>\n",
       "      <th>relation_id</th>\n",
       "    </tr>\n",
       "  </thead>\n",
       "  <tbody>\n",
       "    <tr>\n",
       "      <th>0</th>\n",
       "      <td>Colley Cibber</td>\n",
       "      <td>Alexander Pope</td>\n",
       "      <td>Attacked</td>\n",
       "      <td>attacked</td>\n",
       "    </tr>\n",
       "    <tr>\n",
       "      <th>1</th>\n",
       "      <td>Colley Cibber</td>\n",
       "      <td>Alexander Pope</td>\n",
       "      <td>Attacked</td>\n",
       "      <td>attacked</td>\n",
       "    </tr>\n",
       "    <tr>\n",
       "      <th>2</th>\n",
       "      <td>Colley Cibber</td>\n",
       "      <td>John Dennis</td>\n",
       "      <td>Akin to</td>\n",
       "      <td>akin_to</td>\n",
       "    </tr>\n",
       "    <tr>\n",
       "      <th>3</th>\n",
       "      <td>Colley Cibber</td>\n",
       "      <td>Lewis Theobald</td>\n",
       "      <td>Akin to</td>\n",
       "      <td>akin_to</td>\n",
       "    </tr>\n",
       "    <tr>\n",
       "      <th>4</th>\n",
       "      <td>Colley Cibber</td>\n",
       "      <td>Stephen Duck</td>\n",
       "      <td>Akin to</td>\n",
       "      <td>akin_to</td>\n",
       "    </tr>\n",
       "    <tr>\n",
       "      <th>...</th>\n",
       "      <td>...</td>\n",
       "      <td>...</td>\n",
       "      <td>...</td>\n",
       "      <td>...</td>\n",
       "    </tr>\n",
       "    <tr>\n",
       "      <th>341</th>\n",
       "      <td>John Henley</td>\n",
       "      <td>John Toland</td>\n",
       "      <td>Akin to</td>\n",
       "      <td>akin_to</td>\n",
       "    </tr>\n",
       "    <tr>\n",
       "      <th>342</th>\n",
       "      <td>John Henley</td>\n",
       "      <td>Matthew Tindal</td>\n",
       "      <td>Akin to</td>\n",
       "      <td>akin_to</td>\n",
       "    </tr>\n",
       "    <tr>\n",
       "      <th>343</th>\n",
       "      <td>John Henley</td>\n",
       "      <td>Thomas Woolston</td>\n",
       "      <td>Akin to</td>\n",
       "      <td>akin_to</td>\n",
       "    </tr>\n",
       "    <tr>\n",
       "      <th>344</th>\n",
       "      <td>John Henley</td>\n",
       "      <td>Thomas Sherlock</td>\n",
       "      <td>Akin to</td>\n",
       "      <td>akin_to</td>\n",
       "    </tr>\n",
       "    <tr>\n",
       "      <th>345</th>\n",
       "      <td>John Henley</td>\n",
       "      <td>Leonard Welsted</td>\n",
       "      <td>Akin to</td>\n",
       "      <td>akin_to</td>\n",
       "    </tr>\n",
       "  </tbody>\n",
       "</table>\n",
       "<p>346 rows × 4 columns</p>\n",
       "</div>"
      ],
      "text/plain": [
       "            person         referent  relation relation_id\n",
       "0    Colley Cibber   Alexander Pope  Attacked    attacked\n",
       "1    Colley Cibber   Alexander Pope  Attacked    attacked\n",
       "2    Colley Cibber      John Dennis   Akin to     akin_to\n",
       "3    Colley Cibber   Lewis Theobald   Akin to     akin_to\n",
       "4    Colley Cibber     Stephen Duck   Akin to     akin_to\n",
       "..             ...              ...       ...         ...\n",
       "341    John Henley      John Toland   Akin to     akin_to\n",
       "342    John Henley   Matthew Tindal   Akin to     akin_to\n",
       "343    John Henley  Thomas Woolston   Akin to     akin_to\n",
       "344    John Henley  Thomas Sherlock   Akin to     akin_to\n",
       "345    John Henley  Leonard Welsted   Akin to     akin_to\n",
       "\n",
       "[346 rows x 4 columns]"
      ]
     },
     "execution_count": 13,
     "metadata": {},
     "output_type": "execute_result"
    }
   ],
   "source": [
    "edges"
   ]
  },
  {
   "cell_type": "code",
   "execution_count": 14,
   "id": "a326b7c5-1008-4196-b682-7ca04e27e434",
   "metadata": {
    "tags": []
   },
   "outputs": [
    {
     "name": "stdout",
     "output_type": "stream",
     "text": [
      "A Boyer\n",
      "A Moore\n",
      "Abel Evans\n",
      "Abel Roper\n",
      "Alexander Pope\n",
      "Ambrose Phillips\n",
      "Anne Tanneguy-Le Fevre Dacier\n",
      "B.B.\n",
      "Barton Booth\n",
      "Bavius\n",
      "Benjamin Hoadly\n",
      "Bernard Lintot\n",
      "Besaleel Morris\n",
      "Caius Gabriel Cibber\n",
      "Camillo Querno\n",
      "Cardell Goodman\n",
      "Charles Fleetwood\n",
      "Charles Gildon\n",
      "Cloacina\n",
      "Colley Cibber\n",
      "Daniel Defoe\n",
      "Dulness\n",
      "Edmund Curll\n",
      "Edmund Gibson\n",
      "Edward Ward\n",
      "Edward Young\n",
      "Elisha Kirkall\n",
      "Eliza Haywood\n",
      "Elizabeth Thomas\n",
      "Elkanah Settle\n",
      "Eustace Budgell\n",
      "Frances Hare\n",
      "Francis Atterbury\n",
      "George Ducket\n",
      "George Duckett\n",
      "George Etherege\n",
      "George I\n",
      "George II\n",
      "George Ridpath\n",
      "Giles Jacob\n",
      "Henry Cromwell\n",
      "Henry Curll\n",
      "Henry Janssen\n",
      "Hilkiah Bedford\n",
      "Isaac Barrow\n",
      "Isaac Newton\n",
      "Issac Barrow\n",
      "James Moore Smythe\n",
      "James Ralph\n",
      "James-Moore Smith\n",
      "Jeremy Collier\n",
      "John Anstis\n",
      "John Arbuthnot\n",
      "John Atterbury\n",
      "John Banks\n",
      "John Dennis\n",
      "John Dryden\n",
      "John Dunton\n",
      "John Durant Breval\n",
      "John Fletcher\n",
      "John Garth\n",
      "John Gay\n",
      "John Henley\n",
      "John Hervey\n",
      "John Locke\n",
      "John Oldmixon\n",
      "John Ozell\n",
      "John Toland\n",
      "John Tutchin\n",
      "Jonathan Swift\n",
      "Joseph Addison\n",
      "Joseph Gay\n",
      "Joseph Gay (aka John Durant Breval)\n",
      "Lady Mary Wortley Montagu\n",
      "Laurence Eusden\n",
      "Leonard Welsted\n",
      "Lewis Theobald\n",
      "Lord Bishop of London\n",
      "Martinus Scriblerus\n",
      "Matthew Concanen\n",
      "Matthew Prior\n",
      "Matthew Tindal\n",
      "Philip Dormer Stanhope\n",
      "Richard Bentley\n",
      "Richard Blackmore\n",
      "Richard Flecknoe\n",
      "Richard Savage\n",
      "Robert Walpole\n",
      "S Popping\n",
      "Samuel Garth\n",
      "Stephen Duck\n",
      "Susanna Centlivre\n",
      "Thomas Archer\n",
      "Thomas Cooke\n",
      "Thomas Osborne\n",
      "Thomas Rymer\n",
      "Thomas Sherlock\n",
      "Thomas Warner\n",
      "Thomas Woolston\n",
      "Tom DíUrfey\n",
      "Toussaint Edmond de Saint-Mard\n",
      "White Kenneth\n",
      "William Bond\n",
      "William Bond \n",
      "William Broome\n",
      "William Cavendish\n",
      "William Congreve\n",
      "William Law\n",
      "William Mears\n",
      "William Temple\n",
      "William Wilkins\n",
      "William Wycherley\n"
     ]
    }
   ],
   "source": [
    "# edges.loc[edges.referent.str.contains(','), 'referent'] = edges.loc[edges.referent.str.contains(',')].referent.apply(lambda x: f\"{x.split(',')[1].strip()} {x.split(',')[0]}\")\n",
    "# edges.loc[edges.referent == 'Edmund Curl', 'referent'] = 'Edmund Curll' \n",
    "print('\\n'.join(edges.referent.value_counts().sort_index().index.to_list()))"
   ]
  },
  {
   "cell_type": "markdown",
   "id": "dde2d5fa-d5c5-4412-87f9-c34aa5bd071b",
   "metadata": {},
   "source": [
    "# Extract Relations"
   ]
  },
  {
   "cell_type": "code",
   "execution_count": 15,
   "id": "00632cdb-20f1-4c02-9b07-74715b9e3dff",
   "metadata": {
    "tags": []
   },
   "outputs": [],
   "source": [
    "R = edges.value_counts('relation_id').to_frame('n')"
   ]
  },
  {
   "cell_type": "code",
   "execution_count": 16,
   "id": "a892be3b-e51a-41c6-af53-d4f0163823d4",
   "metadata": {
    "tags": []
   },
   "outputs": [
    {
     "data": {
      "text/html": [
       "<div>\n",
       "<style scoped>\n",
       "    .dataframe tbody tr th:only-of-type {\n",
       "        vertical-align: middle;\n",
       "    }\n",
       "\n",
       "    .dataframe tbody tr th {\n",
       "        vertical-align: top;\n",
       "    }\n",
       "\n",
       "    .dataframe thead th {\n",
       "        text-align: right;\n",
       "    }\n",
       "</style>\n",
       "<table border=\"1\" class=\"dataframe\">\n",
       "  <thead>\n",
       "    <tr style=\"text-align: right;\">\n",
       "      <th></th>\n",
       "      <th>n</th>\n",
       "      <th>color</th>\n",
       "      <th>label</th>\n",
       "    </tr>\n",
       "    <tr>\n",
       "      <th>relation_id</th>\n",
       "      <th></th>\n",
       "      <th></th>\n",
       "      <th></th>\n",
       "    </tr>\n",
       "  </thead>\n",
       "  <tbody>\n",
       "    <tr>\n",
       "      <th>akin_to</th>\n",
       "      <td>189</td>\n",
       "      <td>green</td>\n",
       "      <td>akin to</td>\n",
       "    </tr>\n",
       "    <tr>\n",
       "      <th>attacked</th>\n",
       "      <td>113</td>\n",
       "      <td>red</td>\n",
       "      <td>attacked</td>\n",
       "    </tr>\n",
       "    <tr>\n",
       "      <th>dissimilar</th>\n",
       "      <td>25</td>\n",
       "      <td>orange</td>\n",
       "      <td>dissimilar</td>\n",
       "    </tr>\n",
       "    <tr>\n",
       "      <th>defended</th>\n",
       "      <td>19</td>\n",
       "      <td>blue</td>\n",
       "      <td>defended</td>\n",
       "    </tr>\n",
       "  </tbody>\n",
       "</table>\n",
       "</div>"
      ],
      "text/plain": [
       "               n   color       label\n",
       "relation_id                         \n",
       "akin_to      189   green     akin to\n",
       "attacked     113     red    attacked\n",
       "dissimilar    25  orange  dissimilar\n",
       "defended      19    blue    defended"
      ]
     },
     "execution_count": 16,
     "metadata": {},
     "output_type": "execute_result"
    }
   ],
   "source": [
    "R['color'] = ['green','red','orange','blue']\n",
    "R['label'] = R.index.str.replace('_', ' ')\n",
    "R"
   ]
  },
  {
   "cell_type": "markdown",
   "id": "05fc7385-4a74-45f7-bbb6-89c0f2adf27c",
   "metadata": {},
   "source": [
    "# Extract Nodes"
   ]
  },
  {
   "cell_type": "code",
   "execution_count": 17,
   "id": "0b3ed165-fc96-4849-b8c4-9e2ee6578d7a",
   "metadata": {
    "tags": []
   },
   "outputs": [],
   "source": [
    "N = pd.concat([edges.person, edges.referent]).value_counts().to_frame('n')\n",
    "N = N.reset_index().rename(columns={'index':'full_name'})\n",
    "N['index'] = N['full_name'].str.replace(' ', '_').str.upper().str.replace(r\"\\W\", \"\", regex=True)\n",
    "N = N.set_index('index')"
   ]
  },
  {
   "cell_type": "code",
   "execution_count": 18,
   "id": "785cbcec",
   "metadata": {},
   "outputs": [],
   "source": [
    "# Create label by splitting middle space of name\n",
    "X = N.full_name.str.split(' ').to_frame('list')\n",
    "X['offset'] = np.round(X['list'].apply(len) / 2).astype('int')\n",
    "X['label'] = X.apply(lambda x: x.list[:x.offset] + [\"<br/>\"] + x.list[x.offset:], axis=1).apply(' '.join)\n",
    "X['label'] = X['label'].str.replace(r\"^\\s*<br/>\\s*\", \"\", regex=True)\n",
    "X['label'] = X['label'].str.replace(r\"\\s*<br/>\\s*\", \"<br/>\", regex=True)\n",
    "try:\n",
    "    N = N.join(X.label)\n",
    "except ValueError:\n",
    "    pass\n",
    "del(X)"
   ]
  },
  {
   "cell_type": "code",
   "execution_count": 19,
   "id": "f626ae59-f11f-4586-8975-680635a2afb8",
   "metadata": {
    "tags": []
   },
   "outputs": [
    {
     "data": {
      "text/plain": [
       "index\n",
       "A_BOYER                        A<br/>Boyer\n",
       "A_MOORE                        A<br/>Moore\n",
       "ABEL_EVANS                  Abel<br/>Evans\n",
       "ABEL_ROPER                  Abel<br/>Roper\n",
       "ALEXANDER_POPE          Alexander<br/>Pope\n",
       "                             ...          \n",
       "WILLIAM_LAW                William<br/>Law\n",
       "WILLIAM_MEARS            William<br/>Mears\n",
       "WILLIAM_TEMPLE          William<br/>Temple\n",
       "WILLIAM_WILKINS        William<br/>Wilkins\n",
       "WILLIAM_WYCHERLEY    William<br/>Wycherley\n",
       "Name: label, Length: 112, dtype: object"
      ]
     },
     "execution_count": 19,
     "metadata": {},
     "output_type": "execute_result"
    }
   ],
   "source": [
    "N.label.sort_values() #"
   ]
  },
  {
   "cell_type": "code",
   "execution_count": 20,
   "id": "3af21608-3083-4485-a958-55df2bc88961",
   "metadata": {
    "tags": []
   },
   "outputs": [],
   "source": [
    "# N['label'] = N['full_name'].str.replace(' ', '<br/>')\n",
    "N['dot'] = N.apply(lambda x: f\"{x.name} [label=< {x.label} >]\", axis=1)"
   ]
  },
  {
   "cell_type": "code",
   "execution_count": 21,
   "id": "84765de4-de41-4bf5-921c-8929f8bfc5b2",
   "metadata": {
    "tags": []
   },
   "outputs": [
    {
     "data": {
      "text/html": [
       "<div>\n",
       "<style scoped>\n",
       "    .dataframe tbody tr th:only-of-type {\n",
       "        vertical-align: middle;\n",
       "    }\n",
       "\n",
       "    .dataframe tbody tr th {\n",
       "        vertical-align: top;\n",
       "    }\n",
       "\n",
       "    .dataframe thead th {\n",
       "        text-align: right;\n",
       "    }\n",
       "</style>\n",
       "<table border=\"1\" class=\"dataframe\">\n",
       "  <thead>\n",
       "    <tr style=\"text-align: right;\">\n",
       "      <th></th>\n",
       "      <th>full_name</th>\n",
       "      <th>n</th>\n",
       "      <th>label</th>\n",
       "      <th>dot</th>\n",
       "    </tr>\n",
       "    <tr>\n",
       "      <th>index</th>\n",
       "      <th></th>\n",
       "      <th></th>\n",
       "      <th></th>\n",
       "      <th></th>\n",
       "    </tr>\n",
       "  </thead>\n",
       "  <tbody>\n",
       "    <tr>\n",
       "      <th>EDMUND_CURLL</th>\n",
       "      <td>Edmund Curll</td>\n",
       "      <td>131</td>\n",
       "      <td>Edmund&lt;br/&gt;Curll</td>\n",
       "      <td>EDMUND_CURLL [label=&lt; Edmund&lt;br/&gt;Curll &gt;]</td>\n",
       "    </tr>\n",
       "    <tr>\n",
       "      <th>JOHN_DENNIS</th>\n",
       "      <td>John Dennis</td>\n",
       "      <td>122</td>\n",
       "      <td>John&lt;br/&gt;Dennis</td>\n",
       "      <td>JOHN_DENNIS [label=&lt; John&lt;br/&gt;Dennis &gt;]</td>\n",
       "    </tr>\n",
       "    <tr>\n",
       "      <th>ALEXANDER_POPE</th>\n",
       "      <td>Alexander Pope</td>\n",
       "      <td>83</td>\n",
       "      <td>Alexander&lt;br/&gt;Pope</td>\n",
       "      <td>ALEXANDER_POPE [label=&lt; Alexander&lt;br/&gt;Pope &gt;]</td>\n",
       "    </tr>\n",
       "    <tr>\n",
       "      <th>COLLEY_CIBBER</th>\n",
       "      <td>Colley Cibber</td>\n",
       "      <td>78</td>\n",
       "      <td>Colley&lt;br/&gt;Cibber</td>\n",
       "      <td>COLLEY_CIBBER [label=&lt; Colley&lt;br/&gt;Cibber &gt;]</td>\n",
       "    </tr>\n",
       "    <tr>\n",
       "      <th>GILES_JACOB</th>\n",
       "      <td>Giles Jacob</td>\n",
       "      <td>24</td>\n",
       "      <td>Giles&lt;br/&gt;Jacob</td>\n",
       "      <td>GILES_JACOB [label=&lt; Giles&lt;br/&gt;Jacob &gt;]</td>\n",
       "    </tr>\n",
       "  </tbody>\n",
       "</table>\n",
       "</div>"
      ],
      "text/plain": [
       "                     full_name    n               label  \\\n",
       "index                                                     \n",
       "EDMUND_CURLL      Edmund Curll  131    Edmund<br/>Curll   \n",
       "JOHN_DENNIS        John Dennis  122     John<br/>Dennis   \n",
       "ALEXANDER_POPE  Alexander Pope   83  Alexander<br/>Pope   \n",
       "COLLEY_CIBBER    Colley Cibber   78   Colley<br/>Cibber   \n",
       "GILES_JACOB        Giles Jacob   24     Giles<br/>Jacob   \n",
       "\n",
       "                                                          dot  \n",
       "index                                                          \n",
       "EDMUND_CURLL        EDMUND_CURLL [label=< Edmund<br/>Curll >]  \n",
       "JOHN_DENNIS           JOHN_DENNIS [label=< John<br/>Dennis >]  \n",
       "ALEXANDER_POPE  ALEXANDER_POPE [label=< Alexander<br/>Pope >]  \n",
       "COLLEY_CIBBER     COLLEY_CIBBER [label=< Colley<br/>Cibber >]  \n",
       "GILES_JACOB           GILES_JACOB [label=< Giles<br/>Jacob >]  "
      ]
     },
     "execution_count": 21,
     "metadata": {},
     "output_type": "execute_result"
    }
   ],
   "source": [
    "N.head()"
   ]
  },
  {
   "cell_type": "markdown",
   "id": "ab48c6ea-e0f3-4e90-8fc3-3a8beab0a7c9",
   "metadata": {},
   "source": [
    "# Extract Edges"
   ]
  },
  {
   "cell_type": "code",
   "execution_count": 22,
   "id": "a77ffbe9-05e3-4333-bee7-7bdefe47ae9e",
   "metadata": {
    "tags": []
   },
   "outputs": [],
   "source": [
    "edges['person_id'] = edges.person.map(N.reset_index().set_index('full_name')['index'])\n",
    "edges['referent_id'] = edges.referent.map(N.reset_index().set_index('full_name')['index'])\n",
    "# edges['relation_id'] = edges.relation.str.lower().str.replace(' ', '_', regex=True)"
   ]
  },
  {
   "cell_type": "code",
   "execution_count": 23,
   "id": "8a5a6307-1b02-4fa7-8c47-4bbc99334244",
   "metadata": {
    "tags": []
   },
   "outputs": [
    {
     "data": {
      "text/html": [
       "<div>\n",
       "<style scoped>\n",
       "    .dataframe tbody tr th:only-of-type {\n",
       "        vertical-align: middle;\n",
       "    }\n",
       "\n",
       "    .dataframe tbody tr th {\n",
       "        vertical-align: top;\n",
       "    }\n",
       "\n",
       "    .dataframe thead th {\n",
       "        text-align: right;\n",
       "    }\n",
       "</style>\n",
       "<table border=\"1\" class=\"dataframe\">\n",
       "  <thead>\n",
       "    <tr style=\"text-align: right;\">\n",
       "      <th></th>\n",
       "      <th></th>\n",
       "      <th></th>\n",
       "      <th>n</th>\n",
       "    </tr>\n",
       "    <tr>\n",
       "      <th>person_id</th>\n",
       "      <th>referent_id</th>\n",
       "      <th>relation_id</th>\n",
       "      <th></th>\n",
       "    </tr>\n",
       "  </thead>\n",
       "  <tbody>\n",
       "    <tr>\n",
       "      <th rowspan=\"5\" valign=\"top\">COLLEY_CIBBER</th>\n",
       "      <th rowspan=\"2\" valign=\"top\">ALEXANDER_POPE</th>\n",
       "      <th>akin_to</th>\n",
       "      <td>1</td>\n",
       "    </tr>\n",
       "    <tr>\n",
       "      <th>attacked</th>\n",
       "      <td>9</td>\n",
       "    </tr>\n",
       "    <tr>\n",
       "      <th>BARTON_BOOTH</th>\n",
       "      <th>akin_to</th>\n",
       "      <td>1</td>\n",
       "    </tr>\n",
       "    <tr>\n",
       "      <th>CAIUS_GABRIEL_CIBBER</th>\n",
       "      <th>akin_to</th>\n",
       "      <td>2</td>\n",
       "    </tr>\n",
       "    <tr>\n",
       "      <th>CAMILLO_QUERNO</th>\n",
       "      <th>akin_to</th>\n",
       "      <td>2</td>\n",
       "    </tr>\n",
       "  </tbody>\n",
       "</table>\n",
       "</div>"
      ],
      "text/plain": [
       "                                                n\n",
       "person_id     referent_id          relation_id   \n",
       "COLLEY_CIBBER ALEXANDER_POPE       akin_to      1\n",
       "                                   attacked     9\n",
       "              BARTON_BOOTH         akin_to      1\n",
       "              CAIUS_GABRIEL_CIBBER akin_to      2\n",
       "              CAMILLO_QUERNO       akin_to      2"
      ]
     },
     "execution_count": 23,
     "metadata": {},
     "output_type": "execute_result"
    }
   ],
   "source": [
    "E = edges.groupby(['person_id','referent_id','relation_id']).relation_id.count().to_frame('n')\n",
    "E.head()"
   ]
  },
  {
   "cell_type": "code",
   "execution_count": 24,
   "id": "cf236a05-76ea-496e-9dac-2cf961d1793a",
   "metadata": {
    "tags": []
   },
   "outputs": [],
   "source": [
    "E['dot'] = E.apply(lambda x: f\"{x.name[0]} -> {x.name[1]} [color={R.loc[x.name[2], 'color']} weight={x.n**2}]\", axis=1)"
   ]
  },
  {
   "cell_type": "code",
   "execution_count": 25,
   "id": "94fcbb75-a96e-4c39-85d3-99ba3fee3e9a",
   "metadata": {
    "tags": []
   },
   "outputs": [
    {
     "data": {
      "text/html": [
       "<div>\n",
       "<style scoped>\n",
       "    .dataframe tbody tr th:only-of-type {\n",
       "        vertical-align: middle;\n",
       "    }\n",
       "\n",
       "    .dataframe tbody tr th {\n",
       "        vertical-align: top;\n",
       "    }\n",
       "\n",
       "    .dataframe thead th {\n",
       "        text-align: right;\n",
       "    }\n",
       "</style>\n",
       "<table border=\"1\" class=\"dataframe\">\n",
       "  <thead>\n",
       "    <tr style=\"text-align: right;\">\n",
       "      <th></th>\n",
       "      <th></th>\n",
       "      <th></th>\n",
       "      <th>n</th>\n",
       "      <th>dot</th>\n",
       "    </tr>\n",
       "    <tr>\n",
       "      <th>person_id</th>\n",
       "      <th>referent_id</th>\n",
       "      <th>relation_id</th>\n",
       "      <th></th>\n",
       "      <th></th>\n",
       "    </tr>\n",
       "  </thead>\n",
       "  <tbody>\n",
       "    <tr>\n",
       "      <th rowspan=\"5\" valign=\"top\">COLLEY_CIBBER</th>\n",
       "      <th rowspan=\"2\" valign=\"top\">ALEXANDER_POPE</th>\n",
       "      <th>akin_to</th>\n",
       "      <td>1</td>\n",
       "      <td>COLLEY_CIBBER -&gt; ALEXANDER_POPE [color=green w...</td>\n",
       "    </tr>\n",
       "    <tr>\n",
       "      <th>attacked</th>\n",
       "      <td>9</td>\n",
       "      <td>COLLEY_CIBBER -&gt; ALEXANDER_POPE [color=red wei...</td>\n",
       "    </tr>\n",
       "    <tr>\n",
       "      <th>BARTON_BOOTH</th>\n",
       "      <th>akin_to</th>\n",
       "      <td>1</td>\n",
       "      <td>COLLEY_CIBBER -&gt; BARTON_BOOTH [color=green wei...</td>\n",
       "    </tr>\n",
       "    <tr>\n",
       "      <th>CAIUS_GABRIEL_CIBBER</th>\n",
       "      <th>akin_to</th>\n",
       "      <td>2</td>\n",
       "      <td>COLLEY_CIBBER -&gt; CAIUS_GABRIEL_CIBBER [color=g...</td>\n",
       "    </tr>\n",
       "    <tr>\n",
       "      <th>CAMILLO_QUERNO</th>\n",
       "      <th>akin_to</th>\n",
       "      <td>2</td>\n",
       "      <td>COLLEY_CIBBER -&gt; CAMILLO_QUERNO [color=green w...</td>\n",
       "    </tr>\n",
       "    <tr>\n",
       "      <th>...</th>\n",
       "      <th>...</th>\n",
       "      <th>...</th>\n",
       "      <td>...</td>\n",
       "      <td>...</td>\n",
       "    </tr>\n",
       "    <tr>\n",
       "      <th rowspan=\"5\" valign=\"top\">JOHN_HENLEY</th>\n",
       "      <th>MATTHEW_TINDAL</th>\n",
       "      <th>akin_to</th>\n",
       "      <td>1</td>\n",
       "      <td>JOHN_HENLEY -&gt; MATTHEW_TINDAL [color=green wei...</td>\n",
       "    </tr>\n",
       "    <tr>\n",
       "      <th>RICHARD_BLACKMORE</th>\n",
       "      <th>akin_to</th>\n",
       "      <td>1</td>\n",
       "      <td>JOHN_HENLEY -&gt; RICHARD_BLACKMORE [color=green ...</td>\n",
       "    </tr>\n",
       "    <tr>\n",
       "      <th>RICHARD_FLECKNOE</th>\n",
       "      <th>akin_to</th>\n",
       "      <td>1</td>\n",
       "      <td>JOHN_HENLEY -&gt; RICHARD_FLECKNOE [color=green w...</td>\n",
       "    </tr>\n",
       "    <tr>\n",
       "      <th>THOMAS_SHERLOCK</th>\n",
       "      <th>akin_to</th>\n",
       "      <td>1</td>\n",
       "      <td>JOHN_HENLEY -&gt; THOMAS_SHERLOCK [color=green we...</td>\n",
       "    </tr>\n",
       "    <tr>\n",
       "      <th>THOMAS_WOOLSTON</th>\n",
       "      <th>akin_to</th>\n",
       "      <td>1</td>\n",
       "      <td>JOHN_HENLEY -&gt; THOMAS_WOOLSTON [color=green we...</td>\n",
       "    </tr>\n",
       "  </tbody>\n",
       "</table>\n",
       "<p>172 rows × 2 columns</p>\n",
       "</div>"
      ],
      "text/plain": [
       "                                                n  \\\n",
       "person_id     referent_id          relation_id      \n",
       "COLLEY_CIBBER ALEXANDER_POPE       akin_to      1   \n",
       "                                   attacked     9   \n",
       "              BARTON_BOOTH         akin_to      1   \n",
       "              CAIUS_GABRIEL_CIBBER akin_to      2   \n",
       "              CAMILLO_QUERNO       akin_to      2   \n",
       "...                                            ..   \n",
       "JOHN_HENLEY   MATTHEW_TINDAL       akin_to      1   \n",
       "              RICHARD_BLACKMORE    akin_to      1   \n",
       "              RICHARD_FLECKNOE     akin_to      1   \n",
       "              THOMAS_SHERLOCK      akin_to      1   \n",
       "              THOMAS_WOOLSTON      akin_to      1   \n",
       "\n",
       "                                                                                              dot  \n",
       "person_id     referent_id          relation_id                                                     \n",
       "COLLEY_CIBBER ALEXANDER_POPE       akin_to      COLLEY_CIBBER -> ALEXANDER_POPE [color=green w...  \n",
       "                                   attacked     COLLEY_CIBBER -> ALEXANDER_POPE [color=red wei...  \n",
       "              BARTON_BOOTH         akin_to      COLLEY_CIBBER -> BARTON_BOOTH [color=green wei...  \n",
       "              CAIUS_GABRIEL_CIBBER akin_to      COLLEY_CIBBER -> CAIUS_GABRIEL_CIBBER [color=g...  \n",
       "              CAMILLO_QUERNO       akin_to      COLLEY_CIBBER -> CAMILLO_QUERNO [color=green w...  \n",
       "...                                                                                           ...  \n",
       "JOHN_HENLEY   MATTHEW_TINDAL       akin_to      JOHN_HENLEY -> MATTHEW_TINDAL [color=green wei...  \n",
       "              RICHARD_BLACKMORE    akin_to      JOHN_HENLEY -> RICHARD_BLACKMORE [color=green ...  \n",
       "              RICHARD_FLECKNOE     akin_to      JOHN_HENLEY -> RICHARD_FLECKNOE [color=green w...  \n",
       "              THOMAS_SHERLOCK      akin_to      JOHN_HENLEY -> THOMAS_SHERLOCK [color=green we...  \n",
       "              THOMAS_WOOLSTON      akin_to      JOHN_HENLEY -> THOMAS_WOOLSTON [color=green we...  \n",
       "\n",
       "[172 rows x 2 columns]"
      ]
     },
     "execution_count": 25,
     "metadata": {},
     "output_type": "execute_result"
    }
   ],
   "source": [
    "E"
   ]
  },
  {
   "cell_type": "markdown",
   "id": "f4e8b4b4-369a-49d0-98c8-aa5723b9e574",
   "metadata": {},
   "source": [
    "# Draw Graphs"
   ]
  },
  {
   "cell_type": "code",
   "execution_count": 26,
   "id": "dc96e55e-5433-4627-a35a-e724e6accc7f",
   "metadata": {},
   "outputs": [],
   "source": [
    "def create_graph(persons:[]=[], engines=['sfdp','circo'], verbose=True, width=2000):\n",
    "    global E, N    \n",
    "    \n",
    "    # Create subsets of N and E\n",
    "    E1 = E.loc[persons] if len(persons) > 0 else E\n",
    "    node_idx = list(set(persons + E1.reset_index()['referent_id'].to_list()))\n",
    "    N1 = N.loc[node_idx].sort_index()\n",
    "    \n",
    "    # Convert to Graphviz\n",
    "    graph_text = \"digraph G {\\n\"\n",
    "    graph_text += \"rankdir=LR\\n\"\n",
    "    graph_text += \"node [shape=rect overlap=false fontname=arial]\\n\"\n",
    "    graph_text += '\\n'.join(N1['dot'].values)\n",
    "    graph_text += \"\\n\"\n",
    "    graph_text += '\\n'.join(E1['dot'].values)\n",
    "    graph_text += \"\\n}\"\n",
    "    \n",
    "    # Print source to file\n",
    "    file_name = '_'.join(persons) + \".dot\" if len(persons) else \"images/all.dot\"\n",
    "    file_name = image_dir + \"/\" + file_name\n",
    "    if verbose:\n",
    "        print(file_name)\n",
    "    with open(file_name, \"w\") as outfile:\n",
    "        outfile.write(graph_text)\n",
    "    \n",
    "    # Generate images\n",
    "    for engine in engines:\n",
    "        # Convert to SVG\n",
    "        os.system(f\"{engine} -Tsvg {file_name} > {file_name}_{engine}.svg\")\n",
    "        # Convert to PNG\n",
    "        os.system(f\"rsvg-convert -w {width} {file_name}_{engine}.svg > {file_name}_{engine}_w{width}.png\")"
   ]
  },
  {
   "cell_type": "code",
   "execution_count": 27,
   "id": "c019b903-b343-42ec-814e-13ec6781d023",
   "metadata": {
    "tags": []
   },
   "outputs": [],
   "source": [
    "persons = E.index.levels[0].to_list()"
   ]
  },
  {
   "cell_type": "code",
   "execution_count": 28,
   "id": "29416286-472a-4cc6-b0bf-f33f42bf11c2",
   "metadata": {
    "tags": []
   },
   "outputs": [
    {
     "name": "stdout",
     "output_type": "stream",
     "text": [
      "images/COLLEY_CIBBER_EDMUND_CURLL_ELIZA_HAYWOOD_GILES_JACOB_JOHN_DENNIS_JOHN_HENLEY.dot\n",
      "images/COLLEY_CIBBER.dot\n",
      "images/EDMUND_CURLL.dot\n",
      "images/ELIZA_HAYWOOD.dot\n",
      "images/GILES_JACOB.dot\n",
      "images/JOHN_DENNIS.dot\n",
      "images/JOHN_HENLEY.dot\n"
     ]
    }
   ],
   "source": [
    "create_graph(persons)\n",
    "for person in persons:\n",
    "    create_graph([person])"
   ]
  }
 ],
 "metadata": {
  "kernelspec": {
   "display_name": "Python 3 (ipykernel)",
   "language": "python",
   "name": "python3"
  },
  "language_info": {
   "codemirror_mode": {
    "name": "ipython",
    "version": 3
   },
   "file_extension": ".py",
   "mimetype": "text/x-python",
   "name": "python",
   "nbconvert_exporter": "python",
   "pygments_lexer": "ipython3",
   "version": "3.11.5"
  },
  "widgets": {
   "application/vnd.jupyter.widget-state+json": {
    "state": {},
    "version_major": 2,
    "version_minor": 0
   }
  }
 },
 "nbformat": 4,
 "nbformat_minor": 5
}
